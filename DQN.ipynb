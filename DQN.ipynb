{
 "cells": [
  {
   "cell_type": "markdown",
   "id": "3fbe3af0-5eaf-4458-89ec-d2ee2ee63be1",
   "metadata": {},
   "source": [
    "# Advanced Machine Learning\n",
    "## Deep Reinforcement Learning\n",
    "\n",
    "&copy; Helena Aidos, 2024"
   ]
  },
  {
   "cell_type": "markdown",
   "id": "c1deb331-76ae-4d4a-a39c-b5b84631fa15",
   "metadata": {},
   "source": [
    "### 3. Train the DQN agent\n",
    "\n",
    "In this part of the project we will be performing **Deep Reinforcement Learning using JAX**, a library for array-oriented computation that enables high-performance machine learning research. Although Deep Reinforcement Learning can be computationally expensive and data-intensive, it is a powerful framework for solving problems where explicit programming or rule-based approaches fall short.\n",
    "\n",
    "Similarly to Q-learning, DQN agents are defined by two functions: `act` and `update`.\n",
    "- `act` function: implements an epsilon-greedy policy with respect to Q-values and the agent selects the action corresponding to the **maximum predicted Q-value** for a given state, with a set probability of acting randomly.\n",
    "- `update` function: responsible for training the network: $$L(\\theta)=E\\left[ (r+(1-done) \\times \\gamma \\max_{a'} Q(s',a';\\theta^-) - Q(s,a;\\theta))^2 \\right],$$ where $\\theta$ denotes the **parameters of the online network** and $\\theta^-$ represents the **parameters of the target network**. Training is stabilized due to this separation of parameters.\n"
   ]
  },
  {
   "cell_type": "markdown",
   "id": "9edf57ab-61e6-4677-b46f-26c90e7f3f89",
   "metadata": {},
   "source": [
    "#### 3.1 Creating a Gymnax environment: Mountain Car\n",
    "\n",
    "We will be using `gymnax`as it is ideal for applications like meta-reinforcement learning. It provides precise functional control over environment settings, such as random seeds and hyperparameters, and enables parallelized rollouts across different configurations."
   ]
  },
  {
   "cell_type": "code",
   "execution_count": 642,
   "id": "1d357452-4999-491f-96fa-005bee5b5963",
   "metadata": {},
   "outputs": [],
   "source": [
    "import gymnax"
   ]
  },
  {
   "cell_type": "code",
   "execution_count": 643,
   "id": "68475014-4e1b-4e3c-a658-fafe397bf240",
   "metadata": {},
   "outputs": [
    {
     "data": {
      "text/plain": [
       "EnvParams(max_steps_in_episode=200, min_position=-1.2, max_position=0.6, max_speed=0.07, goal_position=0.5, goal_velocity=0.0, force=0.001, gravity=0.0025)"
      ]
     },
     "execution_count": 643,
     "metadata": {},
     "output_type": "execute_result"
    }
   ],
   "source": [
    "import jax\n",
    "\n",
    "rng = jax.random.PRNGKey(0)\n",
    "rng, key_reset, key_policy, key_step = jax.random.split(rng, 4)\n",
    "\n",
    "# create the Mountain Car environment\n",
    "env, env_params = gymnax.make('MountainCar-v0')\n",
    "# inspect default environment settings\n",
    "env_params"
   ]
  },
  {
   "cell_type": "code",
   "execution_count": 644,
   "id": "b29cbc68-49ac-4bee-9c9e-91af6e1378d8",
   "metadata": {},
   "outputs": [
    {
     "data": {
      "text/plain": [
       "(2,)"
      ]
     },
     "execution_count": 644,
     "metadata": {},
     "output_type": "execute_result"
    }
   ],
   "source": [
    "# observation space dimensionality\n",
    "env.observation_space(env_params).shape"
   ]
  },
  {
   "cell_type": "code",
   "execution_count": 645,
   "id": "c5c5d213-0504-482d-b77b-ef70611bed6e",
   "metadata": {},
   "outputs": [
    {
     "data": {
      "text/plain": [
       "3"
      ]
     },
     "execution_count": 645,
     "metadata": {},
     "output_type": "execute_result"
    }
   ],
   "source": [
    "# action space dimensionality\n",
    "env.action_space(env_params).n"
   ]
  },
  {
   "cell_type": "code",
   "execution_count": 646,
   "id": "15e9392a-2fd7-4fd1-b81f-a05ec2813d08",
   "metadata": {},
   "outputs": [
    {
     "data": {
      "text/plain": [
       "3"
      ]
     },
     "execution_count": 646,
     "metadata": {},
     "output_type": "execute_result"
    }
   ],
   "source": [
    "# alternatively, action space dimensionality\n",
    "env.num_actions"
   ]
  },
  {
   "cell_type": "code",
   "execution_count": 647,
   "id": "dbefc78c-bf73-4fcd-8f91-13effb2357d5",
   "metadata": {},
   "outputs": [
    {
     "data": {
      "text/plain": [
       "(Array([-0.58275205,  0.        ], dtype=float32),\n",
       " EnvState(time=Array(0, dtype=int32, weak_type=True), position=Array(-0.58275205, dtype=float32), velocity=Array(0., dtype=float32, weak_type=True)))"
      ]
     },
     "execution_count": 647,
     "metadata": {},
     "output_type": "execute_result"
    }
   ],
   "source": [
    "obs, state = env.reset(key_reset, env_params)\n",
    "obs, state"
   ]
  },
  {
   "cell_type": "code",
   "execution_count": 648,
   "id": "466adcc3-4750-4922-9345-38acc7368783",
   "metadata": {},
   "outputs": [
    {
     "name": "stderr",
     "output_type": "stream",
     "text": [
      "C:\\Users\\jessi\\AppData\\Roaming\\Python\\Python312\\site-packages\\jax\\_src\\numpy\\array_methods.py:118: UserWarning: Explicitly requested dtype <class 'jax.numpy.int64'> requested in astype is not available, and will be truncated to dtype int32. To enable more dtypes, set the jax_enable_x64 configuration option or the JAX_ENABLE_X64 shell environment variable. See https://github.com/jax-ml/jax#current-gotchas for more.\n",
      "  return lax_numpy.astype(self, dtype, copy=copy, device=device)\n"
     ]
    },
    {
     "data": {
      "text/plain": [
       "(Array([-5.8331072e-01, -5.5867527e-04], dtype=float32),\n",
       " EnvState(time=Array(1, dtype=int32, weak_type=True), position=Array(-0.5833107, dtype=float32), velocity=Array(-0.00055868, dtype=float32)),\n",
       " Array(-1., dtype=float32, weak_type=True),\n",
       " Array(False, dtype=bool))"
      ]
     },
     "execution_count": 648,
     "metadata": {},
     "output_type": "execute_result"
    }
   ],
   "source": [
    "action = env.action_space(env_params).sample(key_policy)\n",
    "n_obs, n_state, reward, done, _ = env.step(key_step, state, action, env_params)\n",
    "n_obs, n_state, reward, done"
   ]
  },
  {
   "cell_type": "markdown",
   "id": "d58a8cf4-3295-40ff-a6a4-d579dd6ea6a1",
   "metadata": {},
   "source": [
    "You can also simply use the environment with its default settings:"
   ]
  },
  {
   "cell_type": "code",
   "execution_count": 650,
   "id": "01c76bbd-81d4-4bbc-8688-43151d0c72d9",
   "metadata": {},
   "outputs": [
    {
     "name": "stderr",
     "output_type": "stream",
     "text": [
      "C:\\Users\\jessi\\AppData\\Roaming\\Python\\Python312\\site-packages\\jax\\_src\\numpy\\array_methods.py:118: UserWarning: Explicitly requested dtype <class 'jax.numpy.int64'> requested in astype is not available, and will be truncated to dtype int32. To enable more dtypes, set the jax_enable_x64 configuration option or the JAX_ENABLE_X64 shell environment variable. See https://github.com/jax-ml/jax#current-gotchas for more.\n",
      "  return lax_numpy.astype(self, dtype, copy=copy, device=device)\n"
     ]
    }
   ],
   "source": [
    "obs, state = env.reset(key_reset)\n",
    "action = env.action_space().sample(key_policy)\n",
    "n_obs, n_state, reward, done, _ = env.step(key_step, state, action)"
   ]
  },
  {
   "cell_type": "markdown",
   "id": "0502f10b-d7b3-41aa-b344-e9d50c67f178",
   "metadata": {},
   "source": [
    "`gymnax` provides fully functional environment dynamics that can leverage the full power of JAX's function transformations. E.g. one common RL use-case the parallel rollout of multiple workers. Using a `vmap` across random seeds (one per worker) allows us to implement such a parallelization on a single machine:"
   ]
  },
  {
   "cell_type": "code",
   "execution_count": 652,
   "id": "7ce96d46-ec44-4481-bbd6-6fd91ca60f93",
   "metadata": {},
   "outputs": [
    {
     "name": "stdout",
     "output_type": "stream",
     "text": [
      "(8, 2)\n"
     ]
    }
   ],
   "source": [
    "vmap_reset = jax.vmap(env.reset, in_axes=(0, None))\n",
    "vmap_step = jax.vmap(env.step, in_axes=(0, 0, 0, None))\n",
    "\n",
    "num_envs = 8\n",
    "vmap_keys = jax.random.split(rng, num_envs)\n",
    "\n",
    "obs, state = vmap_reset(vmap_keys, env_params)\n",
    "n_obs, n_state, reward, done, _ = vmap_step(vmap_keys, state, jax.numpy.zeros(num_envs), env_params)\n",
    "print(n_obs.shape)"
   ]
  },
  {
   "cell_type": "markdown",
   "id": "d9de1c85-ebaf-4734-a9cb-3f3504ece06e",
   "metadata": {},
   "source": [
    "#### 3.2. Implementing a DQN agent using RLinJAX\n",
    "\n",
    "`RLinJAX` is a library of deep reinforcement learning algorithms which will allows to set up, train and evaluate deep RL agents. This library has implemented several deep reinforcement learning algorithms, from which we will be using: `dqn` (deep Q-network) and `sac` (soft actor-critic)\n"
   ]
  },
  {
   "cell_type": "code",
   "execution_count": 654,
   "id": "60fb13f0-2c96-483c-81d7-39a2da849278",
   "metadata": {},
   "outputs": [],
   "source": [
    "import time\n",
    "from RLinJAX import *"
   ]
  },
  {
   "cell_type": "code",
   "execution_count": 655,
   "id": "6fc72014-8016-4d54-88ed-84349c3ee1b5",
   "metadata": {},
   "outputs": [
    {
     "data": {
      "text/plain": [
       "[CpuDevice(id=0)]"
      ]
     },
     "execution_count": 655,
     "metadata": {},
     "output_type": "execute_result"
    }
   ],
   "source": [
    "jax.devices()"
   ]
  },
  {
   "cell_type": "markdown",
   "id": "790ffa0e-1cda-41f4-ad71-7a12cb15cb3a",
   "metadata": {},
   "source": [
    "We will be setting up the training configuration using the following parameters:"
   ]
  },
  {
   "cell_type": "code",
   "execution_count": 657,
   "id": "c8540d74-cec0-4bf7-8eef-75764203d83c",
   "metadata": {},
   "outputs": [],
   "source": [
    "CONFIGS = {\"dqn\":{\"agent\": \"DuelingQNetwork\",\n",
    "                  \"agent_kwargs\": {\"activation\": \"swish\"},\n",
    "                  #\"num_envs\": 10,\n",
    "                  \"buffer_size\": 50_000,\n",
    "                  \"fill_buffer\": 10_000,\n",
    "                  \"batch_size\": 100,\n",
    "                  \"learning_rate\": 0.001,\n",
    "                  \"polyak\": 0.95,\n",
    "                  \"num_epochs\": 5,\n",
    "                  \"target_update_freq\": 1000,\n",
    "                  \"total_timesteps\": 200_000,\n",
    "                  \"eval_freq\": 5000,\n",
    "                  \"eps_start\": 1,\n",
    "                  \"eps_end\": 0.01,\n",
    "                  \"exploration_fraction\": 0.3,\n",
    "                  \"gamma\": 0.99,\n",
    "                  \"ddqn\": True\n",
    "                 }\n",
    "          }"
   ]
  },
  {
   "cell_type": "markdown",
   "id": "1a822d10-0e5f-48d6-acd0-871c7fbd7b83",
   "metadata": {},
   "source": [
    "We will now create the algorithm instance for DQN in the MountainCar-v0 environment. "
   ]
  },
  {
   "cell_type": "code",
   "execution_count": 659,
   "id": "9610ac77-5bc5-476d-9676-649713753488",
   "metadata": {},
   "outputs": [],
   "source": [
    "algo_str = \"dqn\"\n",
    "env_str = \"MountainCar-v0\"\n",
    "\n",
    "# `get_algo` is a convenient function to access algorithms easily\n",
    "# `alg_cls.create` creates a frozen instance of the algorithm and populates it with default values\n",
    "algo_cls = get_algo(algo_str)\n",
    "algo = algo_cls.create(env=env_str, **CONFIGS.get(algo_str, {}))"
   ]
  },
  {
   "cell_type": "markdown",
   "id": "65cb6c26-fabb-40f5-b529-06038acf9699",
   "metadata": {},
   "source": [
    "Let's look at the algorithm instance we have created:"
   ]
  },
  {
   "cell_type": "code",
   "execution_count": 661,
   "id": "f5243cb2-50d4-425c-bf27-9597ce259e2a",
   "metadata": {},
   "outputs": [
    {
     "data": {
      "text/plain": [
       "{'env': <gymnax.environments.classic_control.mountain_car.MountainCar at 0x1eb52044d40>,\n",
       " 'env_params': {'max_steps_in_episode': 200,\n",
       "  'min_position': -1.2,\n",
       "  'max_position': 0.6,\n",
       "  'max_speed': 0.07,\n",
       "  'goal_position': 0.5,\n",
       "  'goal_velocity': 0.0,\n",
       "  'force': 0.001,\n",
       "  'gravity': 0.0025},\n",
       " 'eval_callback': <function RLinJAX.algos.algorithm.Algorithm.create.<locals>.eval_callback(algo, ts, rng)>,\n",
       " 'eval_freq': 5000,\n",
       " 'skip_initial_evaluation': False,\n",
       " 'total_timesteps': 200000,\n",
       " 'learning_rate': 0.001,\n",
       " 'gamma': 0.99,\n",
       " 'max_grad_norm': inf,\n",
       " 'normalize_observations': False,\n",
       " 'target_update_freq': 1000,\n",
       " 'polyak': 0.95,\n",
       " 'num_envs': 1,\n",
       " 'buffer_size': 50000,\n",
       " 'fill_buffer': 10000,\n",
       " 'batch_size': 100,\n",
       " 'eps_start': 1,\n",
       " 'eps_end': 0.01,\n",
       " 'exploration_fraction': 0.3,\n",
       " 'agent': {'hidden_layer_sizes': (64, 64),\n",
       "  'activation': <PjitFunction>,\n",
       "  'action_dim': 3,\n",
       "  'parent': None,\n",
       "  'name': None},\n",
       " 'num_epochs': 5,\n",
       " 'ddqn': True}"
      ]
     },
     "execution_count": 661,
     "metadata": {},
     "output_type": "execute_result"
    }
   ],
   "source": [
    "algo.config"
   ]
  },
  {
   "cell_type": "code",
   "execution_count": 662,
   "id": "abacf3d4-3432-4f50-b99f-be3b4f131440",
   "metadata": {},
   "outputs": [
    {
     "name": "stdout",
     "output_type": "stream",
     "text": [
      "New gamma: 0.95\n"
     ]
    }
   ],
   "source": [
    "# the `replace` method will be used to tune hyperparameters and variables\n",
    "algo = algo.replace(gamma=0.95)\n",
    "#algo = algo.replace(agent={\"hidden_layer_sizes\": (128, 128)})\n",
    "print(f\"New gamma: {algo.gamma}\")"
   ]
  },
  {
   "cell_type": "markdown",
   "id": "6b7940dc-0e96-4c3f-a167-4e5c6bacc6cf",
   "metadata": {},
   "source": [
    "We will now be training the agent:"
   ]
  },
  {
   "cell_type": "code",
   "execution_count": 664,
   "id": "a4ff8860-ce4f-40ff-a3de-c2c6b390c38a",
   "metadata": {},
   "outputs": [
    {
     "name": "stdout",
     "output_type": "stream",
     "text": [
      "Starting to train\n"
     ]
    },
    {
     "name": "stderr",
     "output_type": "stream",
     "text": [
      "C:\\Users\\jessi\\AppData\\Roaming\\Python\\Python312\\site-packages\\jax\\_src\\numpy\\array_methods.py:118: UserWarning: Explicitly requested dtype <class 'jax.numpy.int64'> requested in astype is not available, and will be truncated to dtype int32. To enable more dtypes, set the jax_enable_x64 configuration option or the JAX_ENABLE_X64 shell environment variable. See https://github.com/jax-ml/jax#current-gotchas for more.\n",
      "  return lax_numpy.astype(self, dtype, copy=copy, device=device)\n",
      "C:\\Users\\jessi\\AppData\\Roaming\\Python\\Python312\\site-packages\\jax\\_src\\numpy\\array_methods.py:118: UserWarning: Explicitly requested dtype <class 'jax.numpy.int64'> requested in astype is not available, and will be truncated to dtype int32. To enable more dtypes, set the jax_enable_x64 configuration option or the JAX_ENABLE_X64 shell environment variable. See https://github.com/jax-ml/jax#current-gotchas for more.\n",
      "  return lax_numpy.astype(self, dtype, copy=copy, device=device)\n"
     ]
    },
    {
     "name": "stdout",
     "output_type": "stream",
     "text": [
      "Finished training in 4.74935 seconds (42111 steps/second).\n"
     ]
    }
   ],
   "source": [
    "# set training seed and jit train function. Jit `algo.train` allows for faster execution\n",
    "rng = jax.random.PRNGKey(0)\n",
    "train_fn = jax.jit(algo.train)\n",
    "\n",
    "print(\"Starting to train\")\n",
    "# Train: the initial train_state holds currents environment step, network parameters and replay buffer contents\n",
    "start = time.time()\n",
    "train_state, evaluation = train_fn(rng)\n",
    "time_elapsed = time.time() - start\n",
    "\n",
    "sps = algo.total_timesteps / time_elapsed\n",
    "print(f\"Finished training in {time_elapsed:g} seconds ({sps:g} steps/second).\")"
   ]
  },
  {
   "cell_type": "code",
   "execution_count": 665,
   "id": "edc668cc-3dda-4a19-9b06-a5e8c59ad716",
   "metadata": {},
   "outputs": [
    {
     "name": "stdout",
     "output_type": "stream",
     "text": [
      "Tuple size: 2\n",
      "Episodic lengths and episodic returns shape: (41, 128)\n",
      "200000 / 5000 + 1 = 41.0\n"
     ]
    }
   ],
   "source": [
    "print('Tuple size:', len(evaluation))\n",
    "print('Episodic lengths and episodic returns shape:', evaluation[0].shape)\n",
    "print(f\"{algo.total_timesteps} / {algo.eval_freq} + 1 = {(algo.total_timesteps/algo.eval_freq+1)}\" )"
   ]
  },
  {
   "cell_type": "code",
   "execution_count": 666,
   "id": "bc1a1a9b-c55b-418b-a7e8-1d6c83957860",
   "metadata": {},
   "outputs": [
    {
     "data": {
      "text/plain": [
       "(Array([[200, 200, 200, ..., 200, 200, 200],\n",
       "        [200, 200, 200, ..., 200, 200, 200],\n",
       "        [200, 200, 200, ..., 200, 200, 200],\n",
       "        ...,\n",
       "        [200, 200, 200, ..., 200, 200, 200],\n",
       "        [200, 200, 200, ..., 200, 200, 200],\n",
       "        [193, 114, 200, ..., 192, 200, 200]], dtype=int32, weak_type=True),\n",
       " Array([[-200., -200., -200., ..., -200., -200., -200.],\n",
       "        [-200., -200., -200., ..., -200., -200., -200.],\n",
       "        [-200., -200., -200., ..., -200., -200., -200.],\n",
       "        ...,\n",
       "        [-200., -200., -200., ..., -200., -200., -200.],\n",
       "        [-200., -200., -200., ..., -200., -200., -200.],\n",
       "        [-193., -114., -200., ..., -192., -200., -200.]],      dtype=float32, weak_type=True))"
      ]
     },
     "execution_count": 666,
     "metadata": {},
     "output_type": "execute_result"
    }
   ],
   "source": [
    "evaluation"
   ]
  },
  {
   "cell_type": "markdown",
   "id": "2171ae02-69f3-4c9e-afa6-bb7632545747",
   "metadata": {},
   "source": [
    "We will now be plotting the learning curve."
   ]
  },
  {
   "cell_type": "code",
   "execution_count": 668,
   "id": "74d74cb3-e535-4c1b-88b1-36517c890b8a",
   "metadata": {},
   "outputs": [
    {
     "data": {
      "image/png": "[encoded data removed]",
      "text/plain": [
       "<Figure size 640x480 with 1 Axes>"
      ]
     },
     "metadata": {},
     "output_type": "display_data"
    }
   ],
   "source": [
    "from matplotlib import pyplot as plt\n",
    "\n",
    "episode_lengths, episode_returns = evaluation\n",
    "mean_return = episode_returns.mean(axis=1)\n",
    "\n",
    "plt.plot(jax.numpy.linspace(0, algo.total_timesteps, len(mean_return)), mean_return)\n",
    "plt.xlabel(\"Environment step\")\n",
    "plt.ylabel(\"Episodic return\")\n",
    "plt.title(f\"Training agent for {env_str} using {algo_str}\")\n",
    "plt.show()"
   ]
  },
  {
   "cell_type": "markdown",
   "id": "b3ef2c85-a89b-41e7-a120-f220cb3bdabc",
   "metadata": {},
   "source": [
    "Next, we will be looking at the `train_state`, to see what the algorithm produced."
   ]
  },
  {
   "cell_type": "code",
   "execution_count": 670,
   "id": "6c853a3c-baf4-460a-92ee-19d3f6321ae1",
   "metadata": {},
   "outputs": [
    {
     "data": {
      "text/plain": [
       "{'rng': (2,),\n",
       " 'env_state': EnvState(time=(1,), position=(1,), velocity=(1,)),\n",
       " 'last_obs': (1, 2),\n",
       " 'global_step': (),\n",
       " 'last_done': (1,),\n",
       " 'q_ts': TrainState(step=(), apply_fn=(), params={'params': {'Dense_0': {'bias': (1,), 'kernel': (64, 1)}, 'Dense_1': {'bias': (3,), 'kernel': (64, 3)}, 'MLP_0': {'Dense_0': {'bias': (64,), 'kernel': (2, 64)}, 'Dense_1': {'bias': (64,), 'kernel': (64, 64)}}}}, tx=GradientTransformationExtraArgs(init=<function chain.<locals>.init_fn at 0x000001EB47CC7240>, update=<function chain.<locals>.update_fn at 0x000001EB47CC6F20>), opt_state=(ScaleByAdamState(count=(), mu={'params': {'Dense_0': {'bias': (1,), 'kernel': (64, 1)}, 'Dense_1': {'bias': (3,), 'kernel': (64, 3)}, 'MLP_0': {'Dense_0': {'bias': (64,), 'kernel': (2, 64)}, 'Dense_1': {'bias': (64,), 'kernel': (64, 64)}}}}, nu={'params': {'Dense_0': {'bias': (1,), 'kernel': (64, 1)}, 'Dense_1': {'bias': (3,), 'kernel': (64, 3)}, 'MLP_0': {'Dense_0': {'bias': (64,), 'kernel': (2, 64)}, 'Dense_1': {'bias': (64,), 'kernel': (64, 64)}}}}), EmptyState())),\n",
       " 'q_target_params': {'params': {'Dense_0': {'bias': (1,), 'kernel': (64, 1)},\n",
       "   'Dense_1': {'bias': (3,), 'kernel': (64, 3)},\n",
       "   'MLP_0': {'Dense_0': {'bias': (64,), 'kernel': (2, 64)},\n",
       "    'Dense_1': {'bias': (64,), 'kernel': (64, 64)}}}},\n",
       " 'replay_buffer': ReplayBuffer(size=50000, data=Minibatch(obs=(50000, 2), action=(50000,), reward=(50000,), done=(50000,), next_obs=(50000, 2)), index=(), full=()),\n",
       " 'rms_state': RMSState(mean=(1, 2), var=(1, 2), count=())}"
      ]
     },
     "execution_count": 670,
     "metadata": {},
     "output_type": "execute_result"
    }
   ],
   "source": [
    "jax.tree_util.tree_map(lambda x: x.shape, train_state).__dict__"
   ]
  },
  {
   "cell_type": "markdown",
   "id": "bd9b6770-429b-4117-b336-b788d20a3942",
   "metadata": {},
   "source": [
    "`RLinJAX` allows for the use of the function `evaluate` to quickly and parallelly evaluate policies"
   ]
  },
  {
   "cell_type": "code",
   "execution_count": 672,
   "id": "d1436b30-5863-4caa-8a15-7f7abbe931fc",
   "metadata": {},
   "outputs": [],
   "source": [
    "# Algorithms return an agent's policy parameters in its train state. \n",
    "policy = algo.make_act(train_state)\n",
    "policy = jax.jit(policy)"
   ]
  },
  {
   "cell_type": "code",
   "execution_count": 673,
   "id": "d5bc7190-e81e-4091-8dd5-69956d03ae3f",
   "metadata": {},
   "outputs": [
    {
     "name": "stdout",
     "output_type": "stream",
     "text": [
      "Evaluated 200 episodes with a total of 35910 environment steps in 1.40956 seconds.\n",
      "Average Episode Return: -179.5500030517578\n",
      "Success Rate: 45.00%\n"
     ]
    }
   ],
   "source": [
    "from RLinJAX.evaluate import evaluate\n",
    "\n",
    "num_seeds = 200  \n",
    "env, params = gymnax.make(env_str)\n",
    "max_steps = params.max_steps_in_episode\n",
    "\n",
    "rng = jax.random.PRNGKey(0)\n",
    "\n",
    "start = time.time()\n",
    "\n",
    "# Evaluation time!\n",
    "episode_lengths, episode_returns = evaluate(policy, rng, env, params, num_seeds, max_steps)\n",
    "\n",
    "time_elapsed = time.time() - start\n",
    "\n",
    "print(\n",
    "    f\"Evaluated {num_seeds} episodes \"\n",
    "    f\"with a total of {jax.numpy.sum(episode_lengths)} environment steps \"\n",
    "    f\"in {time_elapsed:g} seconds.\"\n",
    ")\n",
    "\n",
    "avg_return = jax.numpy.mean(episode_returns)\n",
    "print(f\"Average Episode Return: {avg_return}\")\n",
    "\n",
    "success_rate = jax.numpy.sum(jax.numpy.array(episode_returns) > -200) / num_seeds\n",
    "print(f\"Success Rate: {success_rate * 100:.2f}%\")\n"
   ]
  },
  {
   "cell_type": "code",
   "execution_count": 674,
   "id": "e1c546f5-a8b0-46f8-a985-f228c46c813a",
   "metadata": {},
   "outputs": [
    {
     "data": {
      "text/plain": [
       "[Text(0.5, 1.0, 'Episode return')]"
      ]
     },
     "execution_count": 674,
     "metadata": {},
     "output_type": "execute_result"
    },
    {
     "data": {
      "image/png": "[encoded data removed]",
      "text/plain": [
       "<Figure size 800x400 with 2 Axes>"
      ]
     },
     "metadata": {},
     "output_type": "display_data"
    }
   ],
   "source": [
    "fig, axes = plt.subplots(figsize=(8, 4), ncols=2, sharey=\"row\")\n",
    "\n",
    "axes[0].hist(episode_lengths, bins=10)\n",
    "axes[0].set(title=\"Episode length\", ylabel=\"Count\")\n",
    "axes[1].hist(episode_returns)\n",
    "axes[1].set(title=\"Episode return\")"
   ]
  }
 ],
 "metadata": {
  "kernelspec": {
   "display_name": "Python 3 (ipykernel)",
   "language": "python",
   "name": "python3"
  },
  "language_info": {
   "codemirror_mode": {
    "name": "ipython",
    "version": 3
   },
   "file_extension": ".py",
   "mimetype": "text/x-python",
   "name": "python",
   "nbconvert_exporter": "python",
   "pygments_lexer": "ipython3",
   "version": "3.12.4"
  }
 },
 "nbformat": 4,
 "nbformat_minor": 5
}
