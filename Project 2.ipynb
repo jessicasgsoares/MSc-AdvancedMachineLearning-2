{
 "cells": [
  {
   "cell_type": "markdown",
   "metadata": {
    "id": "2f1HgVD82Jsv"
   },
   "source": [
    "# Advanced Machine Learning\n",
    "## Project 2 - Deep Reinforcement Learning\n",
    "\n",
    "Faculty: Helena Aidos"
   ]
  },
  {
   "cell_type": "markdown",
   "metadata": {
    "id": "DKwK5Tp_2QR0"
   },
   "source": [
    "### Introduction\n",
    "\n",
    "\"Mountain Car is a classic reinforcement learning problem, often used as a benchmark for testing the performance of reinforcement learning algorithms. In this problem, an underpowered car must climb a steep hill to reach a goal located at the top of the hill. The car is subject to the laws of physics, which means that it cannot simply drive straight up the hill. Instead, it must build up speed by accelerating back and forth across the hill.\n",
    "\n",
    "The state of the Mountain Car environment is represented by two continuous variables, the position and velocity of the car. The goal of the agent is to learn how to control the car's acceleration to climb the hill and reach the goal as quickly as possible while using the least amount of energy. The agent receives a negative reward for every step it takes to reach the goal, so the goal is to minimise the number of steps required to reach the goal.\"\n",
    "\n"
   ]
  },
  {
   "cell_type": "markdown",
   "metadata": {},
   "source": [
    "### 1. Train the Q-learning agent\n",
    "\n",
    "The main goal of this notebook is to implement three agents to solve the Mountain Car problem: the Q-learning and two deep learning agents (using deep Q-network and soft actor-critic, implemented in a JAX package). For that we will use the `Gymnasium` environment version. We will also be tuning the parameters for the deep learning agents and training the Q learning agent. "
   ]
  },
  {
   "cell_type": "code",
   "execution_count": 78,
   "metadata": {
    "colab": {
     "base_uri": "https://localhost:8080/"
    },
    "executionInfo": {
     "elapsed": 6681,
     "status": "ok",
     "timestamp": 1701643591001,
     "user": {
      "displayName": "Helena Aidos",
      "userId": "08615125639302502803"
     },
     "user_tz": 0
    },
    "id": "fZYatxxW2Pq_",
    "outputId": "8faa1e5b-b4f9-4ffc-994c-5463426f1e60"
   },
   "outputs": [
    {
     "name": "stdout",
     "output_type": "stream",
     "text": [
      "Defaulting to user installation because normal site-packages is not writeable\n",
      "Requirement already satisfied: gymnasium in c:\\users\\jessi\\appdata\\roaming\\python\\python312\\site-packages (1.0.0)\n",
      "Requirement already satisfied: numpy>=1.21.0 in c:\\programdata\\anaconda3\\lib\\site-packages (from gymnasium) (1.26.4)\n",
      "Requirement already satisfied: cloudpickle>=1.2.0 in c:\\programdata\\anaconda3\\lib\\site-packages (from gymnasium) (2.2.1)\n",
      "Requirement already satisfied: typing-extensions>=4.3.0 in c:\\programdata\\anaconda3\\lib\\site-packages (from gymnasium) (4.11.0)\n",
      "Requirement already satisfied: farama-notifications>=0.0.1 in c:\\users\\jessi\\appdata\\roaming\\python\\python312\\site-packages (from gymnasium) (0.0.4)\n",
      "Requirement already satisfied: pygame>=2.1.3 in c:\\users\\jessi\\appdata\\roaming\\python\\python312\\site-packages (from gymnasium[toy-text]) (2.6.1)\n"
     ]
    }
   ],
   "source": [
    "!pip install gymnasium gymnasium[toy-text]"
   ]
  },
  {
   "cell_type": "markdown",
   "metadata": {},
   "source": [
    "We will be using the `seaborn` library for visualizations.\n",
    "```python\n",
    "!pip install seaborn\n",
    "```"
   ]
  },
  {
   "cell_type": "markdown",
   "metadata": {},
   "source": [
    "#### 1.1 Creating the environment"
   ]
  },
  {
   "cell_type": "code",
   "execution_count": 81,
   "metadata": {
    "executionInfo": {
     "elapsed": 283,
     "status": "ok",
     "timestamp": 1701646466447,
     "user": {
      "displayName": "Helena Aidos",
      "userId": "08615125639302502803"
     },
     "user_tz": 0
    },
    "id": "3XKStd0P3B46"
   },
   "outputs": [],
   "source": [
    "import gymnasium as gym"
   ]
  },
  {
   "cell_type": "markdown",
   "metadata": {
    "id": "u3JNP3Pt3-oa"
   },
   "source": [
    "We will now create the Mountain Car environment. "
   ]
  },
  {
   "cell_type": "code",
   "execution_count": 83,
   "metadata": {
    "executionInfo": {
     "elapsed": 252,
     "status": "ok",
     "timestamp": 1701646736981,
     "user": {
      "displayName": "Helena Aidos",
      "userId": "08615125639302502803"
     },
     "user_tz": 0
    },
    "id": "84q5t1gk39We"
   },
   "outputs": [],
   "source": [
    "env = gym.make('MountainCar-v0')"
   ]
  },
  {
   "cell_type": "markdown",
   "metadata": {
    "id": "i6i_PcTW4tRZ"
   },
   "source": [
    "#### 1.2. Discretizing the observation space\n",
    "\n",
    "We have learned that the reinforcement learning environment can be modelled as a Markov decision process (MDP), and an MDP consists of the following:\n",
    "\n",
    "* **States** - A set of states present in the environment. A state space consists of all of our states. We can obtain the number of states in our environment by just typing `env.observation_space`\n",
    "* **Actions** - A set of actions the agent can perform in each state.\n",
    "* **Reward function** - Reward function is denoted by $R(s,a,s')$. It implies the reward the agent obtains moving from a state $s$ to the state $s'$ while performing an action $a$.\n",
    "\n"
   ]
  },
  {
   "cell_type": "markdown",
   "metadata": {
    "id": "rsWDdQrd44Rr"
   },
   "source": []
  },
  {
   "cell_type": "code",
   "execution_count": 86,
   "metadata": {
    "colab": {
     "base_uri": "https://localhost:8080/"
    },
    "executionInfo": {
     "elapsed": 5,
     "status": "ok",
     "timestamp": 1701646741956,
     "user": {
      "displayName": "Helena Aidos",
      "userId": "08615125639302502803"
     },
     "user_tz": 0
    },
    "id": "D1W5UieX4euI",
    "outputId": "606dcf21-7159-4eac-9c7b-4ce045db4500"
   },
   "outputs": [
    {
     "data": {
      "text/plain": [
       "Box([-1.2  -0.07], [0.6  0.07], (2,), float32)"
      ]
     },
     "execution_count": 86,
     "metadata": {},
     "output_type": "execute_result"
    }
   ],
   "source": [
    "env.observation_space"
   ]
  },
  {
   "cell_type": "markdown",
   "metadata": {
    "id": "dq-Iz6eo4-Jw"
   },
   "source": [
    "The action space consists of all the possible actions in the environment. We can obtain the action space by `env.action_space` as shown below:"
   ]
  },
  {
   "cell_type": "code",
   "execution_count": 88,
   "metadata": {},
   "outputs": [],
   "source": [
    "import numpy as np\n",
    "\n",
    "position_bins = np.linspace(env.observation_space.low[0], env.observation_space.high[0], num=20)\n",
    "velocity_bins = np.linspace(env.observation_space.low[1], env.observation_space.high[1], num=20)\n",
    "\n",
    "def discretize_state(state):\n",
    "    position, velocity = state\n",
    "    position_idx = np.digitize(position, position_bins) - 1\n",
    "    velocity_idx = np.digitize(velocity, velocity_bins) - 1\n",
    "    return (position_idx, velocity_idx)"
   ]
  },
  {
   "cell_type": "code",
   "execution_count": 89,
   "metadata": {
    "colab": {
     "base_uri": "https://localhost:8080/"
    },
    "executionInfo": {
     "elapsed": 239,
     "status": "ok",
     "timestamp": 1701646743861,
     "user": {
      "displayName": "Helena Aidos",
      "userId": "08615125639302502803"
     },
     "user_tz": 0
    },
    "id": "DD60qWoQ43oL",
    "outputId": "c96b273e-28a3-4c3d-b42d-31bb7f52aa87"
   },
   "outputs": [
    {
     "data": {
      "text/plain": [
       "Discrete(3)"
      ]
     },
     "execution_count": 89,
     "metadata": {},
     "output_type": "execute_result"
    }
   ],
   "source": [
    "env.action_space"
   ]
  },
  {
   "cell_type": "code",
   "execution_count": 90,
   "metadata": {
    "colab": {
     "base_uri": "https://localhost:8080/"
    },
    "executionInfo": {
     "elapsed": 6,
     "status": "ok",
     "timestamp": 1701646744566,
     "user": {
      "displayName": "Helena Aidos",
      "userId": "08615125639302502803"
     },
     "user_tz": 0
    },
    "id": "V--vDgNv41rx",
    "outputId": "0aa5f041-e2a8-433b-dd7c-04ef17b139c9"
   },
   "outputs": [
    {
     "data": {
      "text/plain": [
       "3"
      ]
     },
     "execution_count": 90,
     "metadata": {},
     "output_type": "execute_result"
    }
   ],
   "source": [
    "env.action_space.n"
   ]
  },
  {
   "cell_type": "markdown",
   "metadata": {
    "id": "iomPNgPC5CMw"
   },
   "source": [
    "In the mountain car we have 3 discrete states in our state space: accelerating, deaccelerating and static. These states will be encoded as a number, from 0 to 2."
   ]
  },
  {
   "cell_type": "markdown",
   "metadata": {},
   "source": [
    "#### 1.3 Implementing Epsilon-Greedy"
   ]
  },
  {
   "cell_type": "markdown",
   "metadata": {},
   "source": [
    "Let's define the dictionary for storing the Q value of the state-action pair, and we initialize the Q value of all the state-action pair to 0.0:"
   ]
  },
  {
   "cell_type": "code",
   "execution_count": 94,
   "metadata": {},
   "outputs": [
    {
     "name": "stdout",
     "output_type": "stream",
     "text": [
      "[[[0. 0. 0.]\n",
      "  [0. 0. 0.]\n",
      "  [0. 0. 0.]\n",
      "  ...\n",
      "  [0. 0. 0.]\n",
      "  [0. 0. 0.]\n",
      "  [0. 0. 0.]]\n",
      "\n",
      " [[0. 0. 0.]\n",
      "  [0. 0. 0.]\n",
      "  [0. 0. 0.]\n",
      "  ...\n",
      "  [0. 0. 0.]\n",
      "  [0. 0. 0.]\n",
      "  [0. 0. 0.]]\n",
      "\n",
      " [[0. 0. 0.]\n",
      "  [0. 0. 0.]\n",
      "  [0. 0. 0.]\n",
      "  ...\n",
      "  [0. 0. 0.]\n",
      "  [0. 0. 0.]\n",
      "  [0. 0. 0.]]\n",
      "\n",
      " ...\n",
      "\n",
      " [[0. 0. 0.]\n",
      "  [0. 0. 0.]\n",
      "  [0. 0. 0.]\n",
      "  ...\n",
      "  [0. 0. 0.]\n",
      "  [0. 0. 0.]\n",
      "  [0. 0. 0.]]\n",
      "\n",
      " [[0. 0. 0.]\n",
      "  [0. 0. 0.]\n",
      "  [0. 0. 0.]\n",
      "  ...\n",
      "  [0. 0. 0.]\n",
      "  [0. 0. 0.]\n",
      "  [0. 0. 0.]]\n",
      "\n",
      " [[0. 0. 0.]\n",
      "  [0. 0. 0.]\n",
      "  [0. 0. 0.]\n",
      "  ...\n",
      "  [0. 0. 0.]\n",
      "  [0. 0. 0.]\n",
      "  [0. 0. 0.]]]\n"
     ]
    }
   ],
   "source": [
    "Q = np.zeros(((len(position_bins), len(velocity_bins), env.action_space.n)))\n",
    "\n",
    "print(Q)"
   ]
  },
  {
   "cell_type": "markdown",
   "metadata": {},
   "source": [
    "Now, let's define the epsilon-greedy policy. We generate a random number from the uniform distribution and if the random number is less than epsilon we select the random action else we select the best action which has the maximum Q value:"
   ]
  },
  {
   "cell_type": "code",
   "execution_count": 96,
   "metadata": {},
   "outputs": [
    {
     "data": {
      "text/plain": [
       "0"
      ]
     },
     "execution_count": 96,
     "metadata": {},
     "output_type": "execute_result"
    }
   ],
   "source": [
    "import random\n",
    "import numpy as np\n",
    "\n",
    "def epsilon_greedy(state, epsilon):\n",
    "    #seed(1)\n",
    "    r = random.random()\n",
    "    \n",
    "    if r < epsilon:\n",
    "        #a= env.unwrapped.P[random()][random()]\n",
    "        return random.choice(range(env.action_space.n))\n",
    "    else:\n",
    "        return np.argmax(Q[state])\n",
    "\n",
    "epsilon_greedy(1,0.1)"
   ]
  },
  {
   "cell_type": "markdown",
   "metadata": {},
   "source": [
    "#### 1.4 Implementing the Q-learning algorithm"
   ]
  },
  {
   "cell_type": "markdown",
   "metadata": {},
   "source": [
    "Initialize the discount factor $\\gamma$ and the learning rate $\\alpha$ and epsilon value. Set the number of episodes and number of time steps in the episode."
   ]
  },
  {
   "cell_type": "code",
   "execution_count": 99,
   "metadata": {},
   "outputs": [],
   "source": [
    "alpha = 0.1\n",
    "gamma = 0.99\n",
    "epsilon = 1.0\n",
    "epsilon_decay = 0.995\n",
    "min_epsilon = 0.01\n",
    "num_episodes = 5000\n",
    "rewards = []"
   ]
  },
  {
   "cell_type": "markdown",
   "metadata": {},
   "source": [
    "Compute the optimal policy using the Q learning update rule as:\n",
    "\n",
    "$Q(s,a) = Q(s,a) + \\alpha (r + \\gamma \\max_{a'} Q(s',a') - Q(s,a))$"
   ]
  },
  {
   "cell_type": "code",
   "execution_count": 101,
   "metadata": {},
   "outputs": [
    {
     "name": "stdout",
     "output_type": "stream",
     "text": [
      "Episode 0, Reward: -200.0\n",
      "Episode 100, Reward: -200.0\n",
      "Episode 200, Reward: -200.0\n",
      "Episode 300, Reward: -200.0\n",
      "Episode 400, Reward: -200.0\n",
      "Episode 500, Reward: -200.0\n",
      "Episode 600, Reward: -200.0\n",
      "Episode 700, Reward: -200.0\n",
      "Episode 800, Reward: -200.0\n",
      "Episode 900, Reward: -200.0\n",
      "Episode 1000, Reward: -200.0\n",
      "Episode 1100, Reward: -200.0\n",
      "Episode 1200, Reward: -200.0\n",
      "Episode 1300, Reward: -200.0\n",
      "Episode 1400, Reward: -199.0\n",
      "Episode 1500, Reward: -200.0\n",
      "Episode 1600, Reward: -200.0\n",
      "Episode 1700, Reward: -200.0\n",
      "Episode 1800, Reward: -200.0\n",
      "Episode 1900, Reward: -165.0\n",
      "Episode 2000, Reward: -112.0\n",
      "Episode 2100, Reward: -200.0\n",
      "Episode 2200, Reward: -200.0\n",
      "Episode 2300, Reward: -200.0\n",
      "Episode 2400, Reward: -200.0\n",
      "Episode 2500, Reward: -200.0\n",
      "Episode 2600, Reward: -200.0\n",
      "Episode 2700, Reward: -153.0\n",
      "Episode 2800, Reward: -193.0\n",
      "Episode 2900, Reward: -168.0\n",
      "Episode 3000, Reward: -200.0\n",
      "Episode 3100, Reward: -156.0\n",
      "Episode 3200, Reward: -200.0\n",
      "Episode 3300, Reward: -200.0\n",
      "Episode 3400, Reward: -145.0\n",
      "Episode 3500, Reward: -145.0\n",
      "Episode 3600, Reward: -182.0\n",
      "Episode 3700, Reward: -141.0\n",
      "Episode 3800, Reward: -151.0\n",
      "Episode 3900, Reward: -194.0\n",
      "Episode 4000, Reward: -154.0\n",
      "Episode 4100, Reward: -149.0\n",
      "Episode 4200, Reward: -149.0\n",
      "Episode 4300, Reward: -154.0\n",
      "Episode 4400, Reward: -154.0\n",
      "Episode 4500, Reward: -115.0\n",
      "Episode 4600, Reward: -122.0\n",
      "Episode 4700, Reward: -200.0\n",
      "Episode 4800, Reward: -147.0\n",
      "Episode 4900, Reward: -149.0\n"
     ]
    }
   ],
   "source": [
    "#for each episode:\n",
    "for episode in range(num_episodes):\n",
    "    state = discretize_state(env.reset()[0])\n",
    "    total_reward = 0\n",
    "\n",
    "    for step in range(200):\n",
    "        action = epsilon_greedy(state, epsilon)\n",
    "        next_state, reward, done, _, _ = env.step(action)\n",
    "        next_state = discretize_state(next_state)\n",
    "\n",
    "        # Q-learning update\n",
    "        best_next_action = np.argmax(Q[next_state])\n",
    "        Q[state][action] += alpha * (reward + gamma * Q[next_state][best_next_action] - Q[state][action])\n",
    "\n",
    "        state = next_state\n",
    "        total_reward += reward\n",
    "        if done:\n",
    "            break\n",
    "\n",
    "    rewards.append(total_reward)\n",
    "    epsilon = max(min_epsilon, epsilon * epsilon_decay)\n",
    "\n",
    "    if episode % 100 == 0:\n",
    "        print(f\"Episode {episode}, Reward: {total_reward}\")"
   ]
  },
  {
   "cell_type": "markdown",
   "metadata": {},
   "source": [
    "#### 1.5 Validating the agent measure"
   ]
  },
  {
   "cell_type": "code",
   "execution_count": 103,
   "metadata": {},
   "outputs": [
    {
     "data": {
      "image/png": "[encoded data removed]",
      "text/plain": [
       "<Figure size 640x480 with 1 Axes>"
      ]
     },
     "metadata": {},
     "output_type": "display_data"
    }
   ],
   "source": [
    "import matplotlib.pyplot as plt\n",
    "\n",
    "plt.plot(rewards)\n",
    "plt.xlabel('Episodes')\n",
    "plt.ylabel('Total Reward')\n",
    "plt.title('Performance over Episodes')\n",
    "plt.show()"
   ]
  }
 ],
 "metadata": {
  "colab": {
   "authorship_tag": "ABX9TyMQyowtnsVGouBV9CBHcAOV",
   "provenance": [],
   "toc_visible": true
  },
  "kernelspec": {
   "display_name": "Python 3 (ipykernel)",
   "language": "python",
   "name": "python3"
  },
  "language_info": {
   "codemirror_mode": {
    "name": "ipython",
    "version": 3
   },
   "file_extension": ".py",
   "mimetype": "text/x-python",
   "name": "python",
   "nbconvert_exporter": "python",
   "pygments_lexer": "ipython3",
   "version": "3.12.4"
  }
 },
 "nbformat": 4,
 "nbformat_minor": 4
}
