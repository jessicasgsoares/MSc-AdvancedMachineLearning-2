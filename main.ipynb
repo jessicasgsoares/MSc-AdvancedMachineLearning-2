{
 "cells": [
  {
   "cell_type": "markdown",
   "metadata": {},
   "source": [
    "# MSc Data Science - Advanced Machine Learning - Project 2: Reinforcement Learning\n",
    "#### FCUL - Jan 2025\n",
    "\n",
    "Faculty: Helena Aidos\n",
    "\n",
    "Students:\n",
    "- Duarte Valente fc64335\n",
    "- Jéssica Soares fc43356"
   ]
  },
  {
   "cell_type": "markdown",
   "metadata": {},
   "source": [
    "## 0. Introduction - Mountain Car Environment\n",
    "\n",
    "\"Mountain Car is a classic reinforcement learning problem, often used as a benchmark for testing the performance of reinforcement learning algorithms. In this problem, an underpowered car must climb a steep hill to reach a goal located at the top of the hill. The car is subject to the laws of physics, which means that it cannot simply drive straight up the hill. Instead, it must build up speed by accelerating back and forth across the hill.\n",
    "\n",
    "The state of the Mountain Car environment is represented by two continuous variables, the position and velocity of the car. The goal of the agent is to learn how to control the car's acceleration to climb the hill and reach the goal as quickly as possible while using the least amount of energy. The agent receives a negative reward for every step it takes to reach the goal, so the goal is to minimise the number of steps required to reach the goal.\"\n",
    "\n"
   ]
  },
  {
   "cell_type": "markdown",
   "metadata": {},
   "source": [
    "## 1. Training the Q-Learning Agent"
   ]
  },
  {
   "cell_type": "code",
   "execution_count": 1,
   "metadata": {},
   "outputs": [],
   "source": [
    "import gymnasium as gym\n",
    "import numpy as np\n",
    "import random"
   ]
  },
  {
   "cell_type": "markdown",
   "metadata": {},
   "source": [
    "#### 1.1. Loading Environment"
   ]
  },
  {
   "cell_type": "code",
   "execution_count": 2,
   "metadata": {},
   "outputs": [],
   "source": [
    "env = gym.make('MountainCar-v0')"
   ]
  },
  {
   "cell_type": "markdown",
   "metadata": {},
   "source": [
    "#### 1.2. Discretizing the observation space\n",
    "\n",
    "We have learned that the reinforcement learning environment can be modelled as a Markov decision process (MDP), and an MDP consists of the following:\n",
    "\n",
    "* **States** - A set of states present in the environment. A state space consists of all of our states. We can obtain the number of states in our environment by just typing `env.observation_space`\n",
    "* **Actions** - A set of actions the agent can perform in each state.\n",
    "* **Reward function** - Reward function is denoted by $R(s,a,s')$. It implies the reward the agent obtains moving from a state $s$ to the state $s'$ while performing an action $a$."
   ]
  },
  {
   "cell_type": "code",
   "execution_count": 3,
   "metadata": {},
   "outputs": [
    {
     "name": "stdout",
     "output_type": "stream",
     "text": [
      "Box([-1.2  -0.07], [0.6  0.07], (2,), float32)\n"
     ]
    }
   ],
   "source": [
    "print(env.observation_space)"
   ]
  },
  {
   "cell_type": "code",
   "execution_count": 4,
   "metadata": {},
   "outputs": [
    {
     "name": "stdout",
     "output_type": "stream",
     "text": [
      "3\n"
     ]
    }
   ],
   "source": [
    "# The action space consists of all the possible actions in the environment.\n",
    "\n",
    "position_bins = np.linspace(env.observation_space.low[0], env.observation_space.high[0], num=20)\n",
    "velocity_bins = np.linspace(env.observation_space.low[1], env.observation_space.high[1], num=20)\n",
    "\n",
    "def discretize_state(state):\n",
    "    position, velocity = state\n",
    "    position_idx = np.digitize(position, position_bins) - 1\n",
    "    velocity_idx = np.digitize(velocity, velocity_bins) - 1\n",
    "    return (position_idx, velocity_idx)\n",
    "\n",
    "print(env.action_space.n) # Mountain Car - Discrete has 3 possible actions."
   ]
  },
  {
   "cell_type": "markdown",
   "metadata": {},
   "source": [
    "In the mountain car we have 3 discrete states in our state space: accelerating, deaccelerating and static. These states will be encoded as a number, from 0 to 2."
   ]
  },
  {
   "cell_type": "markdown",
   "metadata": {},
   "source": [
    "#### 1.3 Implementing Epsilon-Greedy"
   ]
  },
  {
   "cell_type": "markdown",
   "metadata": {},
   "source": [
    "Let's define the dictionary for storing the Q value of the state-action pair, and we initialize the Q value of all the state-action pair to 0.0:"
   ]
  },
  {
   "cell_type": "code",
   "execution_count": 5,
   "metadata": {},
   "outputs": [
    {
     "name": "stdout",
     "output_type": "stream",
     "text": [
      "(20, 20, 3)\n"
     ]
    }
   ],
   "source": [
    "Q = np.zeros(((len(position_bins), len(velocity_bins), env.action_space.n)))\n",
    "\n",
    "print(Q.shape) # 3D matrix 20*20 (Dimentions) * 3 (Possible Actions)"
   ]
  },
  {
   "cell_type": "code",
   "execution_count": 6,
   "metadata": {},
   "outputs": [
    {
     "data": {
      "text/plain": [
       "0"
      ]
     },
     "execution_count": 6,
     "metadata": {},
     "output_type": "execute_result"
    }
   ],
   "source": [
    "def epsilon_greedy(state, epsilon):\n",
    "    #seed(1)\n",
    "    r = random.random()\n",
    "    \n",
    "    if r < epsilon:\n",
    "        #a= env.unwrapped.P[random()][random()]\n",
    "        return random.choice(range(env.action_space.n))\n",
    "    else:\n",
    "        return np.argmax(Q[state])\n",
    "\n",
    "epsilon_greedy(1, 0.1)"
   ]
  },
  {
   "cell_type": "markdown",
   "metadata": {},
   "source": [
    "#### 1.4 Implementing the Q-learning algorithm\n",
    "Initialize the discount factor $\\gamma$ and the learning rate $\\alpha$ and epsilon value. Set the number of episodes and number of time steps in the episode."
   ]
  },
  {
   "cell_type": "code",
   "execution_count": 7,
   "metadata": {},
   "outputs": [],
   "source": [
    "# Set Params\n",
    "\n",
    "alpha = 0.1\n",
    "gamma = 0.99\n",
    "epsilon = 1.0\n",
    "epsilon_decay = 0.995\n",
    "min_epsilon = 0.01\n",
    "num_episodes = 500000\n",
    "rewards = []"
   ]
  },
  {
   "cell_type": "markdown",
   "metadata": {},
   "source": [
    "Compute the optimal policy using the Q learning update rule as:\n",
    "\n",
    "$Q(s,a) = Q(s,a) + \\alpha (r + \\gamma \\max_{a'} Q(s',a') - Q(s,a))$"
   ]
  },
  {
   "cell_type": "code",
   "execution_count": 8,
   "metadata": {},
   "outputs": [
    {
     "name": "stdout",
     "output_type": "stream",
     "text": [
      "Episode 0, Reward: -200.0\n",
      "Episode 2000, Reward: -200.0\n",
      "Episode 4000, Reward: -156.0\n",
      "Episode 6000, Reward: -141.0\n",
      "Episode 8000, Reward: -144.0\n",
      "Episode 10000, Reward: -136.0\n",
      "Episode 12000, Reward: -136.0\n",
      "Episode 14000, Reward: -149.0\n",
      "Episode 16000, Reward: -141.0\n",
      "Episode 18000, Reward: -132.0\n",
      "Episode 20000, Reward: -127.0\n",
      "Episode 22000, Reward: -144.0\n",
      "Episode 24000, Reward: -140.0\n",
      "Episode 26000, Reward: -159.0\n",
      "Episode 28000, Reward: -146.0\n",
      "Episode 30000, Reward: -158.0\n",
      "Episode 32000, Reward: -142.0\n",
      "Episode 34000, Reward: -141.0\n",
      "Episode 36000, Reward: -200.0\n",
      "Episode 38000, Reward: -141.0\n",
      "Episode 40000, Reward: -151.0\n",
      "Episode 42000, Reward: -153.0\n",
      "Episode 44000, Reward: -200.0\n",
      "Episode 46000, Reward: -134.0\n",
      "Episode 48000, Reward: -174.0\n",
      "Episode 50000, Reward: -93.0\n",
      "Episode 52000, Reward: -112.0\n",
      "Episode 54000, Reward: -176.0\n",
      "Episode 56000, Reward: -144.0\n",
      "Episode 58000, Reward: -107.0\n",
      "Episode 60000, Reward: -151.0\n",
      "Episode 62000, Reward: -135.0\n",
      "Episode 64000, Reward: -168.0\n",
      "Episode 66000, Reward: -148.0\n",
      "Episode 68000, Reward: -135.0\n",
      "Episode 70000, Reward: -147.0\n",
      "Episode 72000, Reward: -123.0\n",
      "Episode 74000, Reward: -149.0\n",
      "Episode 76000, Reward: -136.0\n",
      "Episode 78000, Reward: -170.0\n",
      "Episode 80000, Reward: -136.0\n",
      "Episode 82000, Reward: -165.0\n",
      "Episode 84000, Reward: -142.0\n",
      "Episode 86000, Reward: -147.0\n",
      "Episode 88000, Reward: -132.0\n",
      "Episode 90000, Reward: -155.0\n",
      "Episode 92000, Reward: -140.0\n",
      "Episode 94000, Reward: -129.0\n",
      "Episode 96000, Reward: -147.0\n",
      "Episode 98000, Reward: -124.0\n",
      "Episode 100000, Reward: -146.0\n",
      "Episode 102000, Reward: -160.0\n",
      "Episode 104000, Reward: -140.0\n",
      "Episode 106000, Reward: -141.0\n",
      "Episode 108000, Reward: -145.0\n",
      "Episode 110000, Reward: -139.0\n",
      "Episode 112000, Reward: -141.0\n",
      "Episode 114000, Reward: -137.0\n",
      "Episode 116000, Reward: -146.0\n",
      "Episode 118000, Reward: -127.0\n",
      "Episode 120000, Reward: -145.0\n",
      "Episode 122000, Reward: -141.0\n",
      "Episode 124000, Reward: -157.0\n",
      "Episode 126000, Reward: -141.0\n",
      "Episode 128000, Reward: -143.0\n",
      "Episode 130000, Reward: -153.0\n",
      "Episode 132000, Reward: -141.0\n",
      "Episode 134000, Reward: -138.0\n",
      "Episode 136000, Reward: -147.0\n",
      "Episode 138000, Reward: -135.0\n",
      "Episode 140000, Reward: -140.0\n",
      "Episode 142000, Reward: -143.0\n",
      "Episode 144000, Reward: -140.0\n",
      "Episode 146000, Reward: -138.0\n",
      "Episode 148000, Reward: -116.0\n",
      "Episode 150000, Reward: -136.0\n",
      "Episode 152000, Reward: -158.0\n",
      "Episode 154000, Reward: -141.0\n",
      "Episode 156000, Reward: -142.0\n",
      "Episode 158000, Reward: -136.0\n",
      "Episode 160000, Reward: -138.0\n",
      "Episode 162000, Reward: -146.0\n",
      "Episode 164000, Reward: -200.0\n",
      "Episode 166000, Reward: -138.0\n",
      "Episode 168000, Reward: -140.0\n",
      "Episode 170000, Reward: -157.0\n",
      "Episode 172000, Reward: -138.0\n",
      "Episode 174000, Reward: -137.0\n",
      "Episode 176000, Reward: -140.0\n",
      "Episode 178000, Reward: -130.0\n",
      "Episode 180000, Reward: -200.0\n",
      "Episode 182000, Reward: -188.0\n",
      "Episode 184000, Reward: -200.0\n",
      "Episode 186000, Reward: -139.0\n",
      "Episode 188000, Reward: -148.0\n",
      "Episode 190000, Reward: -139.0\n",
      "Episode 192000, Reward: -200.0\n",
      "Episode 194000, Reward: -135.0\n",
      "Episode 196000, Reward: -142.0\n",
      "Episode 198000, Reward: -141.0\n",
      "Episode 200000, Reward: -138.0\n",
      "Episode 202000, Reward: -200.0\n",
      "Episode 204000, Reward: -141.0\n",
      "Episode 206000, Reward: -159.0\n",
      "Episode 208000, Reward: -154.0\n",
      "Episode 210000, Reward: -158.0\n",
      "Episode 212000, Reward: -200.0\n",
      "Episode 214000, Reward: -139.0\n",
      "Episode 216000, Reward: -141.0\n",
      "Episode 218000, Reward: -131.0\n",
      "Episode 220000, Reward: -133.0\n",
      "Episode 222000, Reward: -149.0\n",
      "Episode 224000, Reward: -139.0\n",
      "Episode 226000, Reward: -130.0\n",
      "Episode 228000, Reward: -138.0\n",
      "Episode 230000, Reward: -200.0\n",
      "Episode 232000, Reward: -200.0\n",
      "Episode 234000, Reward: -146.0\n",
      "Episode 236000, Reward: -200.0\n",
      "Episode 238000, Reward: -141.0\n",
      "Episode 240000, Reward: -148.0\n",
      "Episode 242000, Reward: -140.0\n",
      "Episode 244000, Reward: -137.0\n",
      "Episode 246000, Reward: -200.0\n",
      "Episode 248000, Reward: -143.0\n",
      "Episode 250000, Reward: -146.0\n",
      "Episode 252000, Reward: -200.0\n",
      "Episode 254000, Reward: -144.0\n",
      "Episode 256000, Reward: -153.0\n",
      "Episode 258000, Reward: -140.0\n",
      "Episode 260000, Reward: -136.0\n",
      "Episode 262000, Reward: -141.0\n",
      "Episode 264000, Reward: -150.0\n",
      "Episode 266000, Reward: -150.0\n",
      "Episode 268000, Reward: -136.0\n",
      "Episode 270000, Reward: -138.0\n",
      "Episode 272000, Reward: -138.0\n",
      "Episode 274000, Reward: -153.0\n",
      "Episode 276000, Reward: -118.0\n",
      "Episode 278000, Reward: -137.0\n",
      "Episode 280000, Reward: -144.0\n",
      "Episode 282000, Reward: -139.0\n",
      "Episode 284000, Reward: -174.0\n",
      "Episode 286000, Reward: -143.0\n",
      "Episode 288000, Reward: -137.0\n",
      "Episode 290000, Reward: -149.0\n",
      "Episode 292000, Reward: -200.0\n",
      "Episode 294000, Reward: -127.0\n",
      "Episode 296000, Reward: -139.0\n",
      "Episode 298000, Reward: -142.0\n",
      "Episode 300000, Reward: -148.0\n",
      "Episode 302000, Reward: -183.0\n",
      "Episode 304000, Reward: -137.0\n",
      "Episode 306000, Reward: -162.0\n",
      "Episode 308000, Reward: -124.0\n",
      "Episode 310000, Reward: -138.0\n",
      "Episode 312000, Reward: -131.0\n",
      "Episode 314000, Reward: -177.0\n",
      "Episode 316000, Reward: -160.0\n",
      "Episode 318000, Reward: -148.0\n",
      "Episode 320000, Reward: -133.0\n",
      "Episode 322000, Reward: -148.0\n",
      "Episode 324000, Reward: -166.0\n",
      "Episode 326000, Reward: -136.0\n",
      "Episode 328000, Reward: -149.0\n",
      "Episode 330000, Reward: -134.0\n",
      "Episode 332000, Reward: -148.0\n",
      "Episode 334000, Reward: -200.0\n",
      "Episode 336000, Reward: -140.0\n",
      "Episode 338000, Reward: -149.0\n",
      "Episode 340000, Reward: -138.0\n",
      "Episode 342000, Reward: -149.0\n",
      "Episode 344000, Reward: -136.0\n",
      "Episode 346000, Reward: -133.0\n",
      "Episode 348000, Reward: -149.0\n",
      "Episode 350000, Reward: -134.0\n",
      "Episode 352000, Reward: -149.0\n",
      "Episode 354000, Reward: -148.0\n",
      "Episode 356000, Reward: -200.0\n",
      "Episode 358000, Reward: -138.0\n",
      "Episode 360000, Reward: -141.0\n",
      "Episode 362000, Reward: -154.0\n",
      "Episode 364000, Reward: -140.0\n",
      "Episode 366000, Reward: -139.0\n",
      "Episode 368000, Reward: -200.0\n",
      "Episode 370000, Reward: -124.0\n",
      "Episode 372000, Reward: -200.0\n",
      "Episode 374000, Reward: -146.0\n",
      "Episode 376000, Reward: -146.0\n",
      "Episode 378000, Reward: -144.0\n",
      "Episode 380000, Reward: -163.0\n",
      "Episode 382000, Reward: -139.0\n",
      "Episode 384000, Reward: -200.0\n",
      "Episode 386000, Reward: -132.0\n",
      "Episode 388000, Reward: -121.0\n",
      "Episode 390000, Reward: -156.0\n",
      "Episode 392000, Reward: -112.0\n",
      "Episode 394000, Reward: -145.0\n",
      "Episode 396000, Reward: -143.0\n",
      "Episode 398000, Reward: -134.0\n",
      "Episode 400000, Reward: -134.0\n",
      "Episode 402000, Reward: -141.0\n",
      "Episode 404000, Reward: -137.0\n",
      "Episode 406000, Reward: -140.0\n",
      "Episode 408000, Reward: -142.0\n",
      "Episode 410000, Reward: -136.0\n",
      "Episode 412000, Reward: -134.0\n",
      "Episode 414000, Reward: -146.0\n",
      "Episode 416000, Reward: -138.0\n",
      "Episode 418000, Reward: -113.0\n",
      "Episode 420000, Reward: -114.0\n",
      "Episode 422000, Reward: -157.0\n",
      "Episode 424000, Reward: -145.0\n",
      "Episode 426000, Reward: -138.0\n",
      "Episode 428000, Reward: -143.0\n",
      "Episode 430000, Reward: -134.0\n",
      "Episode 432000, Reward: -140.0\n",
      "Episode 434000, Reward: -145.0\n",
      "Episode 436000, Reward: -132.0\n",
      "Episode 438000, Reward: -150.0\n",
      "Episode 440000, Reward: -147.0\n",
      "Episode 442000, Reward: -165.0\n",
      "Episode 444000, Reward: -151.0\n",
      "Episode 446000, Reward: -190.0\n",
      "Episode 448000, Reward: -149.0\n",
      "Episode 450000, Reward: -139.0\n",
      "Episode 452000, Reward: -138.0\n",
      "Episode 454000, Reward: -157.0\n",
      "Episode 456000, Reward: -141.0\n",
      "Episode 458000, Reward: -139.0\n",
      "Episode 460000, Reward: -157.0\n",
      "Episode 462000, Reward: -142.0\n",
      "Episode 464000, Reward: -150.0\n",
      "Episode 466000, Reward: -145.0\n",
      "Episode 468000, Reward: -140.0\n",
      "Episode 470000, Reward: -141.0\n",
      "Episode 472000, Reward: -148.0\n",
      "Episode 474000, Reward: -131.0\n",
      "Episode 476000, Reward: -139.0\n",
      "Episode 478000, Reward: -135.0\n",
      "Episode 480000, Reward: -140.0\n",
      "Episode 482000, Reward: -154.0\n",
      "Episode 484000, Reward: -154.0\n",
      "Episode 486000, Reward: -168.0\n",
      "Episode 488000, Reward: -145.0\n",
      "Episode 490000, Reward: -132.0\n",
      "Episode 492000, Reward: -151.0\n",
      "Episode 494000, Reward: -118.0\n",
      "Episode 496000, Reward: -129.0\n",
      "Episode 498000, Reward: -150.0\n"
     ]
    }
   ],
   "source": [
    "for episode in range(num_episodes):\n",
    "    state = discretize_state(env.reset()[0])\n",
    "    total_reward = 0\n",
    "\n",
    "    for step in range(200):\n",
    "        action = epsilon_greedy(state, epsilon)\n",
    "        next_state, reward, done, _, _ = env.step(action)\n",
    "        next_state = discretize_state(next_state)\n",
    "\n",
    "        # Q-learning update\n",
    "        best_next_action = np.argmax(Q[next_state])\n",
    "        Q[state][action] += alpha * (reward + gamma * Q[next_state][best_next_action] - Q[state][action])\n",
    "\n",
    "        state = next_state\n",
    "        total_reward += reward\n",
    "        if done:\n",
    "            break\n",
    "\n",
    "    rewards.append(total_reward)\n",
    "    epsilon = max(min_epsilon, epsilon * epsilon_decay)\n",
    "\n",
    "    if episode % 2000 == 0:\n",
    "        print(f\"Episode {episode}, Reward: {total_reward}\")"
   ]
  },
  {
   "cell_type": "markdown",
   "metadata": {},
   "source": [
    "#### 1.5 Validating the agent measure"
   ]
  },
  {
   "cell_type": "code",
   "execution_count": 9,
   "metadata": {},
   "outputs": [
    {
     "data": {
      "image/png": "[encoded data removed]",
      "text/plain": [
       "<Figure size 640x480 with 1 Axes>"
      ]
     },
     "metadata": {},
     "output_type": "display_data"
    }
   ],
   "source": [
    "import matplotlib.pyplot as plt\n",
    "\n",
    "plt.plot(rewards)\n",
    "plt.xlabel('Episodes')\n",
    "plt.ylabel('Total Reward')\n",
    "plt.title('Performance over Episodes')\n",
    "plt.show()"
   ]
  },
  {
   "cell_type": "code",
   "execution_count": 10,
   "metadata": {},
   "outputs": [
    {
     "name": "stdout",
     "output_type": "stream",
     "text": [
      "Best Reward Obtained: -86.0\n"
     ]
    }
   ],
   "source": [
    "print(\"Best Reward Obtained:\", max(rewards))"
   ]
  },
  {
   "cell_type": "markdown",
   "metadata": {},
   "source": [
    "## 2. Training the DQN Agent"
   ]
  },
  {
   "cell_type": "markdown",
   "metadata": {},
   "source": [
    "In this part of the project we will be performing **Deep Reinforcement Learning using JAX**, a library for array-oriented computation that enables high-performance machine learning research. Although Deep Reinforcement Learning can be computationally expensive and data-intensive, it is a powerful framework for solving problems where explicit programming or rule-based approaches fall short.\n",
    "\n",
    "Similarly to Q-learning, DQN agents are defined by two functions: `act` and `update`.\n",
    "- `act` function: implements an epsilon-greedy policy with respect to Q-values and the agent selects the action corresponding to the **maximum predicted Q-value** for a given state, with a set probability of acting randomly.\n",
    "- `update` function: responsible for training the network: $$L(\\theta)=E\\left[ (r+(1-done) \\times \\gamma \\max_{a'} Q(s',a';\\theta^-) - Q(s,a;\\theta))^2 \\right],$$ where $\\theta$ denotes the **parameters of the online network** and $\\theta^-$ represents the **parameters of the target network**. Training is stabilized due to this separation of parameters."
   ]
  },
  {
   "cell_type": "code",
   "execution_count": 1,
   "metadata": {},
   "outputs": [],
   "source": [
    "import gymnax\n",
    "import jax\n",
    "import time\n",
    "from RLinJAX import *\n",
    "from RLinJAX.evaluate import evaluate\n",
    "from matplotlib import pyplot as plt"
   ]
  },
  {
   "cell_type": "code",
   "execution_count": 2,
   "metadata": {},
   "outputs": [
    {
     "name": "stdout",
     "output_type": "stream",
     "text": [
      "[CudaDevice(id=0)]\n"
     ]
    }
   ],
   "source": [
    "# Using GPU\n",
    "print(jax.devices())"
   ]
  },
  {
   "cell_type": "markdown",
   "metadata": {},
   "source": [
    "#### 2.1 Creating a Gymnax environment: Mountain Car\n",
    "\n",
    "This time we will be using `gymnax` intead of `gym` as it is ideal for applications like meta-reinforcement learning. It provides precise functional control over environment settings, such as random seeds and hyperparameters, and enables parallelized rollouts across different configurations."
   ]
  },
  {
   "cell_type": "code",
   "execution_count": 3,
   "metadata": {},
   "outputs": [
    {
     "name": "stdout",
     "output_type": "stream",
     "text": [
      "EnvParams(max_steps_in_episode=200, min_position=-1.2, max_position=0.6, max_speed=0.07, goal_position=0.5, goal_velocity=0.0, force=0.001, gravity=0.0025)\n"
     ]
    }
   ],
   "source": [
    "# Add some randomness to the environment while keeping the option to make it reproductible. \n",
    "rng = jax.random.PRNGKey(0)\n",
    "rng, key_reset, key_policy, key_step = jax.random.split(rng, 4)\n",
    "\n",
    "# create the Mountain Car environment\n",
    "env, env_params = gymnax.make('MountainCar-v0')\n",
    "# inspect default environment settings\n",
    "print(env_params)"
   ]
  },
  {
   "cell_type": "markdown",
   "metadata": {},
   "source": [
    "As it is the same environment used in Q-Learning Training, there is no need to check the observation and action spaces."
   ]
  },
  {
   "cell_type": "code",
   "execution_count": 4,
   "metadata": {},
   "outputs": [
    {
     "name": "stderr",
     "output_type": "stream",
     "text": [
      "/home/valentxi/miniconda3/envs/RL/lib/python3.10/site-packages/jax/_src/numpy/array_methods.py:118: UserWarning: Explicitly requested dtype <class 'jax.numpy.int64'> requested in astype is not available, and will be truncated to dtype int32. To enable more dtypes, set the jax_enable_x64 configuration option or the JAX_ENABLE_X64 shell environment variable. See https://github.com/jax-ml/jax#current-gotchas for more.\n",
      "  return lax_numpy.astype(self, dtype, copy=copy, device=device)\n"
     ]
    },
    {
     "data": {
      "text/plain": [
       "(Array([-5.8331072e-01, -5.5867527e-04], dtype=float32),\n",
       " EnvState(time=Array(1, dtype=int32, weak_type=True), position=Array(-0.5833107, dtype=float32), velocity=Array(-0.00055868, dtype=float32)),\n",
       " Array(-1., dtype=float32, weak_type=True),\n",
       " Array(False, dtype=bool))"
      ]
     },
     "execution_count": 4,
     "metadata": {},
     "output_type": "execute_result"
    }
   ],
   "source": [
    "obs, state = env.reset(key_reset, env_params)\n",
    "\n",
    "action = env.action_space(env_params).sample(key_policy)\n",
    "n_obs, n_state, reward, done, _ = env.step(key_step, state, action, env_params)\n",
    "n_obs, n_state, reward, done"
   ]
  },
  {
   "cell_type": "markdown",
   "metadata": {},
   "source": [
    "#### 2.2 Setting DQL Parameters"
   ]
  },
  {
   "cell_type": "code",
   "execution_count": 5,
   "metadata": {},
   "outputs": [],
   "source": [
    "CONFIGS = {\"dqn\":{\"agent\": \"DuelingQNetwork\",\n",
    "                  \"agent_kwargs\": {\"activation\": \"swish\"},\n",
    "                  #\"num_envs\": 10,\n",
    "                  \"buffer_size\": 50_000,\n",
    "                  \"fill_buffer\": 10_000,\n",
    "                  \"batch_size\": 256,\n",
    "                  \"learning_rate\": 0.0005,\n",
    "                  \"polyak\": 0.95,\n",
    "                  \"num_epochs\": 5,\n",
    "                  \"target_update_freq\": 1000,\n",
    "                  \"total_timesteps\": 500_000,\n",
    "                  \"eval_freq\": 5000,\n",
    "                  \"eps_start\": 1,\n",
    "                  \"eps_end\": 0.01,\n",
    "                  \"exploration_fraction\": 0.3,\n",
    "                  \"gamma\": 0.99,\n",
    "                  \"ddqn\": True\n",
    "                 }\n",
    "          }"
   ]
  },
  {
   "cell_type": "markdown",
   "metadata": {},
   "source": [
    "We will now create the algorithm instance for DQN in the MountainCar-v0 environment. "
   ]
  },
  {
   "cell_type": "code",
   "execution_count": 6,
   "metadata": {},
   "outputs": [],
   "source": [
    "algo_str = \"dqn\"\n",
    "env_str = \"MountainCar-v0\"\n",
    "\n",
    "# `get_algo` is a convenient function to access algorithms easily\n",
    "# `alg_cls.create` creates a frozen instance of the algorithm and populates it with default values\n",
    "algo_cls = get_algo(algo_str)\n",
    "algo = algo_cls.create(env=env_str, **CONFIGS.get(algo_str, {}))"
   ]
  },
  {
   "cell_type": "markdown",
   "metadata": {},
   "source": [
    "#### 2.3 Training DQL Agent"
   ]
  },
  {
   "cell_type": "code",
   "execution_count": 7,
   "metadata": {},
   "outputs": [
    {
     "name": "stdout",
     "output_type": "stream",
     "text": [
      "Starting to train\n"
     ]
    },
    {
     "name": "stderr",
     "output_type": "stream",
     "text": [
      "/home/valentxi/miniconda3/envs/RL/lib/python3.10/site-packages/jax/_src/numpy/array_methods.py:118: UserWarning: Explicitly requested dtype <class 'jax.numpy.int64'> requested in astype is not available, and will be truncated to dtype int32. To enable more dtypes, set the jax_enable_x64 configuration option or the JAX_ENABLE_X64 shell environment variable. See https://github.com/jax-ml/jax#current-gotchas for more.\n",
      "  return lax_numpy.astype(self, dtype, copy=copy, device=device)\n",
      "/home/valentxi/miniconda3/envs/RL/lib/python3.10/site-packages/jax/_src/numpy/array_methods.py:118: UserWarning: Explicitly requested dtype <class 'jax.numpy.int64'> requested in astype is not available, and will be truncated to dtype int32. To enable more dtypes, set the jax_enable_x64 configuration option or the JAX_ENABLE_X64 shell environment variable. See https://github.com/jax-ml/jax#current-gotchas for more.\n",
      "  return lax_numpy.astype(self, dtype, copy=copy, device=device)\n"
     ]
    },
    {
     "name": "stdout",
     "output_type": "stream",
     "text": [
      "Finished training in 243.52 seconds (2053.22 steps/second).\n"
     ]
    }
   ],
   "source": [
    "# set training seed and jit train function. Jit `algo.train` allows for faster execution\n",
    "train_fn = jax.jit(algo.train)\n",
    "\n",
    "print(\"Starting to train\")\n",
    "# Train: the initial train_state holds currents environment step, network parameters and replay buffer contents\n",
    "start = time.time()\n",
    "train_state, evaluation = train_fn(rng)\n",
    "time_elapsed = time.time() - start\n",
    "\n",
    "sps = algo.total_timesteps / time_elapsed\n",
    "print(f\"Finished training in {time_elapsed:g} seconds ({sps:g} steps/second).\")"
   ]
  },
  {
   "cell_type": "code",
   "execution_count": 8,
   "metadata": {},
   "outputs": [
    {
     "name": "stdout",
     "output_type": "stream",
     "text": [
      "Tuple size: 2\n",
      "Episodic lengths and episodic returns shape: (101, 128)\n",
      "500000 / 5000 + 1 = 101.0\n"
     ]
    }
   ],
   "source": [
    "print('Tuple size:', len(evaluation))\n",
    "print('Episodic lengths and episodic returns shape:', evaluation[0].shape)\n",
    "print(f\"{algo.total_timesteps} / {algo.eval_freq} + 1 = {(algo.total_timesteps/algo.eval_freq+1)}\")"
   ]
  },
  {
   "cell_type": "markdown",
   "metadata": {},
   "source": [
    "#### 2.4 Visualizing DQL Results"
   ]
  },
  {
   "cell_type": "markdown",
   "metadata": {},
   "source": [
    "Learning Curve"
   ]
  },
  {
   "cell_type": "code",
   "execution_count": 9,
   "metadata": {},
   "outputs": [
    {
     "data": {
      "text/plain": [
       "DQNState(rng=Array([3849062537, 2780740907], dtype=uint32), env_state=EnvState(time=Array([107], dtype=int32, weak_type=True), position=Array([-1.0421695], dtype=float32), velocity=Array([-0.04977829], dtype=float32)), last_obs=Array([[-1.0421695 , -0.04977829]], dtype=float32), global_step=Array(500000, dtype=int32, weak_type=True), last_done=Array([False], dtype=bool), q_ts=TrainState(step=Array(2449995, dtype=int32, weak_type=True), apply_fn=(), params={'params': {'Dense_0': {'bias': Array([-2.8386412], dtype=float32), 'kernel': Array([[ 2.8427653e+00],\n",
       "       [-7.5428904e-04],\n",
       "       [ 3.4118392e+00],\n",
       "       [ 2.6139703e-03],\n",
       "       [ 3.3172135e+00],\n",
       "       [ 2.0635476e+00],\n",
       "       [-2.8836008e-03],\n",
       "       [-1.0035356e-01],\n",
       "       [ 2.0779110e-03],\n",
       "       [ 1.7201484e-03],\n",
       "       [ 4.4616661e+00],\n",
       "       [-2.8754630e+00],\n",
       "       [-5.7466386e-05],\n",
       "       [ 9.4023770e-01],\n",
       "       [ 5.4159382e-04],\n",
       "       [ 1.2756538e-04],\n",
       "       [ 2.8680391e+00],\n",
       "       [ 2.2641444e-03],\n",
       "       [ 2.9338155e+00],\n",
       "       [-2.9776851e-04],\n",
       "       [ 1.9974110e-03],\n",
       "       [-4.0567436e-04],\n",
       "       [-1.2222327e+00],\n",
       "       [ 2.7834713e+00],\n",
       "       [-1.6506255e-04],\n",
       "       [ 2.1089129e+00],\n",
       "       [ 2.2147666e-04],\n",
       "       [-1.3125556e-03],\n",
       "       [-4.5689294e-04],\n",
       "       [-6.4501434e-04],\n",
       "       [-3.8124906e-04],\n",
       "       [-1.3657612e-03],\n",
       "       [-1.5486061e-04],\n",
       "       [ 8.6953223e-04],\n",
       "       [ 3.5318584e+00],\n",
       "       [ 1.4040731e-03],\n",
       "       [ 3.2084825e+00],\n",
       "       [ 2.8197899e+00],\n",
       "       [ 1.3767498e-03],\n",
       "       [ 1.4295138e-04],\n",
       "       [ 3.0252311e+00],\n",
       "       [ 2.5929918e+00],\n",
       "       [ 1.2994080e-03],\n",
       "       [-5.2965718e-04],\n",
       "       [ 2.8209324e+00],\n",
       "       [-2.9690298e-03],\n",
       "       [-2.5889722e-03],\n",
       "       [-2.0901421e-03],\n",
       "       [-3.1341407e-03],\n",
       "       [-1.5230748e-03],\n",
       "       [ 1.3829765e-03],\n",
       "       [ 2.8622709e-03],\n",
       "       [-7.7850185e-05],\n",
       "       [ 2.8632730e-03],\n",
       "       [-4.8127552e-03],\n",
       "       [-1.9174244e-03],\n",
       "       [-9.1341033e-04],\n",
       "       [ 2.1196580e+00],\n",
       "       [ 2.8316193e+00],\n",
       "       [ 1.5856392e+00],\n",
       "       [-2.8962062e-03],\n",
       "       [ 2.0931060e-03],\n",
       "       [-8.4174611e-04],\n",
       "       [ 2.7402704e+00]], dtype=float32)}, 'Dense_1': {'bias': Array([-0.14788108, -0.08630444,  0.20455985], dtype=float32), 'kernel': Array([[ 1.01514995e-01, -1.56179368e-02,  1.87496543e-02],\n",
       "       [-1.10873751e-01, -1.10780858e-01, -1.14234097e-01],\n",
       "       [-7.21263826e-01,  3.36279497e-02,  3.52037609e-01],\n",
       "       [-1.21456735e-01, -1.26789406e-01, -1.15404420e-01],\n",
       "       [-8.72818530e-01,  2.16030985e-01,  2.70326436e-01],\n",
       "       [-4.53409493e-01,  1.30626500e-01,  5.03057063e-01],\n",
       "       [-5.24217188e-02, -4.63264957e-02, -5.88489324e-02],\n",
       "       [-5.17475009e-02, -2.20138922e-01,  1.54475912e-01],\n",
       "       [ 6.43128157e-02,  5.84700294e-02,  6.96661621e-02],\n",
       "       [-6.93337545e-02, -7.48180151e-02, -6.54833615e-02],\n",
       "       [ 1.78362048e+00, -1.08015287e+00, -9.34555531e-01],\n",
       "       [-2.88585156e-01,  1.20531611e-01,  2.11562827e-01],\n",
       "       [-7.16024190e-02, -7.19266683e-02, -7.25992322e-02],\n",
       "       [-1.55713618e-01, -6.09636754e-02,  1.33543760e-01],\n",
       "       [-1.54395938e-01, -1.54954836e-01, -1.51570275e-01],\n",
       "       [ 1.38965938e-02,  1.31179253e-02,  1.36355702e-02],\n",
       "       [ 2.04397631e+00, -5.15232086e-01, -1.15173817e+00],\n",
       "       [ 4.14671469e-03,  2.57083215e-04,  9.60808899e-03],\n",
       "       [ 2.01091588e-01,  7.14101642e-02, -8.05899575e-02],\n",
       "       [-9.38077345e-02, -9.23860595e-02, -9.30930972e-02],\n",
       "       [ 4.57403623e-02,  4.09535244e-02,  5.11825569e-02],\n",
       "       [-2.14904863e-02, -2.18380000e-02, -2.23064162e-02],\n",
       "       [ 1.16296634e-02, -1.88351795e-02, -1.13582231e-01],\n",
       "       [ 1.49962202e-01, -5.07282577e-02, -1.65550351e-01],\n",
       "       [-7.72439539e-02, -7.82241672e-02, -7.71584585e-02],\n",
       "       [ 7.19373584e-01, -1.80114493e-01, -2.16678590e-01],\n",
       "       [-1.23490453e-01, -1.24547869e-01, -1.23277463e-01],\n",
       "       [ 8.37944541e-03,  1.70758795e-02,  6.56278571e-03],\n",
       "       [-1.24096029e-01, -1.24556623e-01, -1.26698062e-01],\n",
       "       [ 6.68929592e-02,  6.46320879e-02,  6.42176941e-02],\n",
       "       [ 3.46800014e-02,  3.51524800e-02,  3.37936915e-02],\n",
       "       [ 4.15763594e-02,  4.08538803e-02,  3.73678468e-02],\n",
       "       [-4.61415239e-02, -4.68911193e-02, -4.78137359e-02],\n",
       "       [-2.51378492e-03, -9.74389445e-03, -6.28715381e-04],\n",
       "       [-2.66118586e-01,  2.65001744e-01, -7.80680701e-02],\n",
       "       [-6.03014901e-02, -6.23835772e-02, -5.71818762e-02],\n",
       "       [-1.41354299e+00,  1.00468844e-01,  1.21459353e+00],\n",
       "       [ 2.17984170e-01,  2.19268918e-01, -1.59195453e-01],\n",
       "       [-7.56558478e-02, -8.32521394e-02, -7.23520145e-02],\n",
       "       [ 1.05086818e-01,  1.03580303e-01,  1.03657544e-01],\n",
       "       [ 1.52074075e+00, -1.88741181e-02, -1.19561386e+00],\n",
       "       [ 6.60497904e-01,  6.99458225e-03, -5.37923157e-01],\n",
       "       [-3.58660109e-02, -3.86334956e-02, -3.32118943e-02],\n",
       "       [ 7.85325989e-02,  7.97499642e-02,  7.66248479e-02],\n",
       "       [ 2.88247466e-02, -2.85073575e-02, -1.77287325e-01],\n",
       "       [ 7.66726285e-02,  7.91657045e-02,  6.92909881e-02],\n",
       "       [-7.24313315e-03, -3.37297097e-04, -1.28275892e-02],\n",
       "       [ 2.06215922e-02,  2.58993860e-02,  1.59766041e-02],\n",
       "       [ 2.87019124e-04,  5.57064544e-03, -4.76365630e-03],\n",
       "       [-2.85159182e-02, -2.51886025e-02, -3.10342126e-02],\n",
       "       [ 8.36121477e-03,  1.56677584e-03,  1.21086482e-02],\n",
       "       [ 8.71469975e-02,  8.23211819e-02,  9.15805995e-02],\n",
       "       [-3.15291733e-02, -3.13509293e-02, -3.07613835e-02],\n",
       "       [-2.44389344e-02, -2.83629373e-02, -1.81388371e-02],\n",
       "       [ 4.81094643e-02,  5.25232181e-02,  3.74785364e-02],\n",
       "       [ 1.10217547e-02,  1.41702667e-02,  6.98237401e-03],\n",
       "       [ 8.03192928e-02,  8.18576813e-02,  8.06529373e-02],\n",
       "       [-1.23237520e-01,  2.43445765e-02,  3.32334973e-02],\n",
       "       [ 2.87124872e-01, -1.03598125e-01, -1.80137530e-01],\n",
       "       [ 2.49158904e-01,  1.48600057e-01, -2.00455278e-01],\n",
       "       [ 6.46398664e-02,  6.67812973e-02,  5.74447177e-02],\n",
       "       [ 1.90033652e-02,  1.59840882e-02,  2.23871693e-02],\n",
       "       [-6.61946982e-02, -6.70188591e-02, -6.88389689e-02],\n",
       "       [-1.31085253e+00,  5.09623110e-01,  1.16917419e+00]],      dtype=float32)}, 'MLP_0': {'Dense_0': {'bias': Array([ 2.8714311e-01, -5.1315117e-01,  9.3316086e-02,  5.9553809e-02,\n",
       "       -2.8500268e-01,  6.4281016e-03, -5.1785544e-03, -5.4282688e-02,\n",
       "       -1.8506904e-01, -1.2927974e+00, -7.5402986e-03, -7.1014297e-01,\n",
       "       -8.3318837e-02,  3.4829137e-01, -4.3968031e-01, -4.6798703e-03,\n",
       "       -3.7972042e-03,  2.6687631e-01,  5.2418263e-04, -4.6831712e-01,\n",
       "       -3.2488997e-03, -4.0885788e-01,  1.9191975e-02, -1.8916838e-01,\n",
       "       -6.2699979e-03,  4.3961984e-01,  3.0061513e-01, -6.2735146e-03,\n",
       "       -1.0423790e-01,  2.0973705e-01, -2.5420120e-01,  1.1846990e-01,\n",
       "        3.3155216e-03,  4.0897468e-01,  5.2162820e-01, -7.1037235e-03,\n",
       "        1.1491165e-02, -5.5797237e-01,  4.7147977e-03,  1.6248576e-01,\n",
       "       -8.9886445e-01, -1.1346800e-01,  3.4322785e-03,  2.7621663e-01,\n",
       "       -3.5392221e-03,  6.7790374e-03,  5.7737818e-03, -3.7333435e-01,\n",
       "        3.6402115e-01, -4.1970509e-01, -7.7303779e-01, -1.4115925e-02,\n",
       "        2.0488022e-01, -8.4789157e-01,  2.6939884e-01,  3.1551158e-01,\n",
       "        4.7186002e-02, -1.3499678e+00,  1.5276141e-03,  9.0617388e-03,\n",
       "       -5.4598540e-01, -6.5339416e-02, -2.3416099e-03,  3.2917368e-01],      dtype=float32), 'kernel': Array([[ 1.9162488e-01,  8.7075755e-02, -3.5262591e-01,  7.5148857e-01,\n",
       "         2.0734451e+00,  2.7007323e-03, -6.8630674e-03,  4.9204236e-01,\n",
       "         6.0773003e-01, -1.5702816e+00, -5.4506273e-03,  2.5106847e-01,\n",
       "        -2.2776842e-01,  2.2444074e-01,  1.0948733e+00, -4.0152966e-04,\n",
       "        -5.7961391e-03,  5.5481356e-01,  3.8623328e-03,  6.3187462e-01,\n",
       "        -3.1002876e-03,  2.2443664e+00,  2.0078173e-01, -2.9797552e-02,\n",
       "        -1.0717427e-03,  7.8834552e-01,  2.1912488e-01, -4.2170542e-03,\n",
       "         1.7764077e-01,  8.9557219e-01, -1.1549367e+00, -3.3517629e-01,\n",
       "         3.4236391e-03, -4.7414729e-01, -6.5227753e-01, -6.9911983e-03,\n",
       "         2.1316299e+00,  3.3429320e+00,  4.8115845e-03,  6.5109096e-02,\n",
       "        -1.1368082e+00, -5.4139769e-01,  4.1548964e-03, -1.2540744e-01,\n",
       "        -1.8009974e-04,  3.6972032e-03,  5.6073037e-03,  2.4615240e+00,\n",
       "        -4.3556973e-01,  2.8228688e+00,  2.0717451e-02,  8.1305631e-02,\n",
       "         2.1184400e-01, -4.9146152e-01, -3.5887638e-01,  1.3427967e-01,\n",
       "         4.0493840e-01, -2.0457812e-01,  6.5041622e-03,  6.6736932e-03,\n",
       "         1.4510636e-01,  1.0576433e-01, -1.7670376e-03, -5.1589662e-01],\n",
       "       [-1.2112993e+01,  2.1832170e+00, -1.2314840e+01,  6.6244850e+00,\n",
       "         3.8660843e-02,  8.8661639e-03, -1.9775126e-03,  1.0199539e+01,\n",
       "        -7.6354837e-01, -3.4279206e+00, -6.8102339e-03,  2.9209239e+00,\n",
       "         3.8574207e+00, -1.1710854e+01,  6.0631051e+00, -4.1979589e-03,\n",
       "        -3.1644674e-03, -2.0498967e+00, -7.4149662e-05,  4.4969296e+00,\n",
       "        -3.5486799e-03,  9.3161869e+00,  9.3356714e+00,  1.2703747e+00,\n",
       "        -5.0603547e-03,  5.0252323e+00, -8.5491505e+00, -5.6895907e-03,\n",
       "         1.4130213e+00,  1.1221850e+01, -1.3814290e+01, -1.1874379e+01,\n",
       "         1.6017092e-03, -6.0913219e+00, -4.4786053e+00, -6.7065977e-03,\n",
       "         3.4415035e+00,  1.1434358e+00,  4.2101429e-03, -4.6020308e+00,\n",
       "        -2.0508059e+01,  5.5477676e+00, -5.2085645e-03, -1.2497179e+01,\n",
       "        -6.3723656e-03,  7.1964469e-03,  3.7892242e-03,  4.8927823e-01,\n",
       "        -3.5719767e+00,  9.1116369e-01,  1.9721860e+00, -1.3981881e+00,\n",
       "        -8.8039789e+00,  1.1644841e+00, -5.9612122e+00, -1.0126349e+01,\n",
       "         1.2207796e+01, -5.8250320e-01,  5.8169258e-03,  8.4636146e-03,\n",
       "         2.1423669e+00,  7.1131830e+00, -2.3431741e-03, -3.2582076e+00]],      dtype=float32)}, 'Dense_1': {'bias': Array([-9.04269874e-01, -9.90793779e-02, -1.24236727e+00, -3.17197181e-02,\n",
       "       -9.41249669e-01, -1.32570446e+00,  8.38589622e-04, -3.19410302e-02,\n",
       "        2.36703195e-02, -6.00865260e-02, -1.62942994e+00, -5.86656392e-01,\n",
       "       -5.76681867e-02, -2.35574394e-01, -3.67752537e-02, -1.78367514e-02,\n",
       "       -6.41854107e-01, -8.72088894e-02, -4.51247722e-01, -5.01188524e-02,\n",
       "       -2.46307589e-02, -5.13577685e-02,  1.11066115e+00, -3.37422788e-01,\n",
       "       -1.46342283e-02, -6.74245238e-01, -4.87527214e-02, -8.99602175e-02,\n",
       "       -8.72217864e-02, -6.78804889e-02, -4.79072966e-02, -3.72786857e-02,\n",
       "       -5.26990220e-02, -7.64372423e-02, -8.85057449e-01, -9.00803953e-02,\n",
       "       -1.13889730e+00, -4.16400433e-01, -3.46844159e-02, -4.18290719e-02,\n",
       "       -9.17784870e-01, -1.14682996e+00, -5.39382808e-02, -7.02517927e-02,\n",
       "       -8.52306485e-01, -4.63252962e-02, -5.21186814e-02, -6.10349923e-02,\n",
       "       -5.54498052e-03, -6.23430200e-02, -8.32043216e-02, -6.32440373e-02,\n",
       "       -9.61981714e-02, -9.58971083e-02, -9.39535424e-02, -1.16347134e-01,\n",
       "       -6.31500110e-02, -9.37704921e-01, -7.09319711e-01, -2.03833640e-01,\n",
       "       -6.25151619e-02, -9.78638753e-02, -6.75699562e-02, -9.53762174e-01],      dtype=float32), 'kernel': Array([[-0.11191718,  0.06261104, -0.19468705, ...,  0.02497139,\n",
       "        -0.02314167,  0.5637566 ],\n",
       "       [ 0.1863591 , -0.01444081, -0.19803055, ..., -0.03420681,\n",
       "         0.02463997,  0.45367023],\n",
       "       [ 0.5272941 , -0.06747391, -1.0665232 , ..., -0.05206842,\n",
       "         0.04727873,  0.37918296],\n",
       "       ...,\n",
       "       [ 0.12448129, -0.07818465, -1.2204261 , ..., -0.1041569 ,\n",
       "        -0.12816378,  0.34402132],\n",
       "       [ 0.00688102,  0.0271055 ,  0.00317042, ...,  0.00133692,\n",
       "         0.04895442, -0.01231441],\n",
       "       [-0.19545925,  0.01387944, -0.5233146 , ..., -0.00598376,\n",
       "         0.01694178, -0.73750705]], dtype=float32)}}}}, tx=GradientTransformationExtraArgs(init=<function chain.<locals>.init_fn at 0x7fd49878f5b0>, update=<function chain.<locals>.update_fn at 0x7fd4980b31c0>), opt_state=(ScaleByAdamState(count=Array(2449995, dtype=int32), mu={'params': {'Dense_0': {'bias': Array([0.00202633], dtype=float32), 'kernel': Array([[-5.64392540e-04],\n",
       "       [-1.98895268e-05],\n",
       "       [-5.89182251e-04],\n",
       "       [ 1.85360277e-05],\n",
       "       [-1.70350322e-04],\n",
       "       [-5.01021786e-05],\n",
       "       [-9.43815485e-06],\n",
       "       [ 9.98088508e-05],\n",
       "       [ 4.55717873e-06],\n",
       "       [ 1.98612906e-05],\n",
       "       [-9.43172490e-05],\n",
       "       [-1.36498827e-04],\n",
       "       [ 5.81157656e-06],\n",
       "       [ 4.05056495e-03],\n",
       "       [ 2.83424979e-05],\n",
       "       [ 1.43804282e-05],\n",
       "       [-4.60964307e-04],\n",
       "       [ 2.58821638e-05],\n",
       "       [-5.63368027e-04],\n",
       "       [-1.65711735e-05],\n",
       "       [ 2.02134033e-05],\n",
       "       [ 1.51380045e-05],\n",
       "       [ 6.45334832e-03],\n",
       "       [-5.63647423e-04],\n",
       "       [ 2.93394151e-05],\n",
       "       [ 2.04787531e-04],\n",
       "       [ 2.85072347e-05],\n",
       "       [-9.02856209e-06],\n",
       "       [-3.65025062e-06],\n",
       "       [ 4.77339054e-05],\n",
       "       [-1.73101068e-06],\n",
       "       [ 1.56719925e-05],\n",
       "       [ 3.12006196e-05],\n",
       "       [ 2.02318624e-05],\n",
       "       [-1.57013965e-05],\n",
       "       [ 3.70750859e-05],\n",
       "       [-3.72669514e-04],\n",
       "       [-5.63410635e-04],\n",
       "       [ 1.11224817e-05],\n",
       "       [ 3.79414814e-05],\n",
       "       [-5.53709629e-04],\n",
       "       [-1.25159844e-04],\n",
       "       [ 4.27079722e-05],\n",
       "       [-2.86656814e-05],\n",
       "       [-5.64247719e-04],\n",
       "       [-3.15742582e-05],\n",
       "       [-1.20387649e-05],\n",
       "       [-2.11285205e-05],\n",
       "       [-4.12041009e-05],\n",
       "       [-4.67367936e-05],\n",
       "       [ 1.13758151e-05],\n",
       "       [ 3.02292465e-05],\n",
       "       [-9.64365609e-06],\n",
       "       [ 2.80331897e-05],\n",
       "       [-1.45938557e-05],\n",
       "       [-3.29610775e-05],\n",
       "       [-3.85672001e-06],\n",
       "       [-7.70870072e-04],\n",
       "       [-5.64227928e-04],\n",
       "       [ 1.73986261e-03],\n",
       "       [-4.09266941e-05],\n",
       "       [ 3.88240042e-05],\n",
       "       [ 1.08006361e-05],\n",
       "       [-4.37852636e-04]], dtype=float32)}, 'Dense_1': {'bias': Array([-0.0008338 , -0.00073631,  0.00157011], dtype=float32), 'kernel': Array([[ 2.33518338e-04,  2.03552379e-04, -4.37070732e-04],\n",
       "       [ 4.58246132e-06,  6.46530816e-06, -1.10477704e-05],\n",
       "       [ 1.62922050e-04,  2.03084681e-04, -3.66006716e-04],\n",
       "       [-6.26711608e-06, -5.77496121e-06,  1.20420773e-05],\n",
       "       [ 1.47404644e-04,  5.84753179e-05, -2.05879944e-04],\n",
       "       [ 7.38421659e-05,  1.68586430e-05, -9.07007998e-05],\n",
       "       [ 4.94646429e-06,  2.88121169e-06, -7.82767438e-06],\n",
       "       [-1.00829202e-04, -8.21243739e-05,  1.82953605e-04],\n",
       "       [-3.69874533e-06, -1.17117088e-06,  4.86991803e-06],\n",
       "       [-7.88918805e-06, -6.26802193e-06,  1.41572127e-05],\n",
       "       [-1.07053984e-05,  3.60332087e-05, -2.53278140e-05],\n",
       "       [-1.15084200e-04,  2.81851389e-05,  8.68987408e-05],\n",
       "       [-1.79464973e-06, -1.88575586e-06,  3.68040492e-06],\n",
       "       [-3.73353017e-04, -1.40439742e-03,  1.77775184e-03],\n",
       "       [-6.51375012e-06, -9.09995197e-06,  1.56136994e-05],\n",
       "       [-4.93286143e-06, -4.74852459e-06,  9.68138465e-06],\n",
       "       [ 2.02509429e-04,  1.60561423e-04, -3.63070867e-04],\n",
       "       [-7.44326098e-06, -8.25071311e-06,  1.56939732e-05],\n",
       "       [ 2.32038074e-04,  2.04728320e-04, -4.36766364e-04],\n",
       "       [ 5.08107860e-06,  5.40520159e-06, -1.04862802e-05],\n",
       "       [-6.53359530e-06, -6.36377990e-06,  1.28973770e-05],\n",
       "       [-4.24508426e-06, -4.88915521e-06,  9.13423992e-06],\n",
       "       [-5.04794624e-03, -2.68809125e-03,  7.73603562e-03],\n",
       "       [ 2.32041843e-04,  2.04828917e-04, -4.36870672e-04],\n",
       "       [-7.67821166e-06, -9.38997437e-06,  1.70681851e-05],\n",
       "       [ 2.16531655e-04, -9.08805232e-05, -1.25651248e-04],\n",
       "       [-8.70172062e-06, -9.26049597e-06,  1.79622130e-05],\n",
       "       [ 6.99065549e-06,  2.68003191e-06, -9.67068627e-06],\n",
       "       [ 6.27787358e-07,  1.19988090e-06, -1.82766871e-06],\n",
       "       [-1.32773021e-05, -1.54460904e-05,  2.87233943e-05],\n",
       "       [ 1.17934098e-06,  6.48480807e-07, -1.82782196e-06],\n",
       "       [-4.59134480e-06, -5.06487731e-06,  9.65621985e-06],\n",
       "       [-9.93511640e-06, -1.01622491e-05,  2.00973645e-05],\n",
       "       [-8.24054587e-06, -6.22160587e-06,  1.44621517e-05],\n",
       "       [ 4.44204197e-05,  1.12673251e-05, -5.56877567e-05],\n",
       "       [-9.59094632e-06, -1.19278475e-05,  2.15187920e-05],\n",
       "       [ 1.67762832e-04,  1.32420682e-04, -3.00183456e-04],\n",
       "       [ 2.32128019e-04,  2.04736352e-04, -4.36864386e-04],\n",
       "       [-6.33824129e-06, -3.27605676e-06,  9.61429851e-06],\n",
       "       [-1.26041487e-05, -1.24436419e-05,  2.50477915e-05],\n",
       "       [ 1.88290098e-04,  1.90811261e-04, -3.79101344e-04],\n",
       "       [ 1.25296036e-04,  5.07643890e-05, -1.76060406e-04],\n",
       "       [-1.11118434e-05, -1.37800016e-05,  2.48918441e-05],\n",
       "       [ 6.96073948e-06,  9.23275365e-06, -1.61934913e-05],\n",
       "       [ 2.32178762e-04,  2.05030985e-04, -4.37209732e-04],\n",
       "       [ 6.73378327e-06,  1.01229680e-05, -1.68567476e-05],\n",
       "       [ 4.89973718e-06,  3.60510103e-06, -8.50483593e-06],\n",
       "       [ 7.33259003e-06,  6.69034353e-06, -1.40229349e-05],\n",
       "       [ 1.33228350e-05,  1.34069487e-05, -2.67297837e-05],\n",
       "       [ 1.34941238e-05,  1.52787907e-05, -2.87729090e-05],\n",
       "       [-6.71306771e-06, -3.50305368e-06,  1.02161230e-05],\n",
       "       [-1.02535787e-05, -9.65592335e-06,  1.99095011e-05],\n",
       "       [ 4.35040965e-06,  3.32556215e-06, -7.67597157e-06],\n",
       "       [-7.81525887e-06, -8.90705451e-06,  1.67223116e-05],\n",
       "       [ 2.11570568e-06,  4.44041780e-06, -6.55612166e-06],\n",
       "       [ 9.92678451e-06,  1.07135274e-05, -2.06403092e-05],\n",
       "       [ 2.62915501e-06,  1.35521611e-06, -3.98437078e-06],\n",
       "       [ 3.67331595e-05,  1.72715692e-04, -2.09448743e-04],\n",
       "       [ 2.32177030e-04,  2.05024568e-04, -4.37201583e-04],\n",
       "       [-5.70824996e-05, -6.24951907e-04,  6.82033773e-04],\n",
       "       [ 8.64180674e-06,  1.31258039e-05, -2.17676097e-05],\n",
       "       [-1.05947192e-05, -1.24516555e-05,  2.30463775e-05],\n",
       "       [-2.96746953e-06, -3.45960621e-06,  6.42707528e-06],\n",
       "       [ 1.66514190e-04,  1.55525675e-04, -3.22039850e-04]],      dtype=float32)}, 'MLP_0': {'Dense_0': {'bias': Array([-4.0222201e-03,  4.6293600e-04, -1.7738491e-03,  1.6600939e-03,\n",
       "        3.4427720e-03,  9.7606089e-06, -4.1020983e-05,  2.8723257e-04,\n",
       "        3.6492880e-04, -4.4945668e-04, -2.9571187e-05,  4.9800327e-04,\n",
       "        9.3810493e-04, -4.4134050e-03,  1.5875230e-03,  1.3724229e-05,\n",
       "       -3.2677799e-05, -5.7990447e-04,  3.7909474e-05,  8.4195461e-04,\n",
       "       -2.3145792e-06,  3.3702007e-03,  6.8561512e-04,  6.9116242e-04,\n",
       "        7.2842986e-06,  2.4450747e-03, -2.9062524e-03, -3.1242645e-05,\n",
       "        6.2334439e-04,  4.2908518e-03, -5.2857853e-04, -3.3285890e-03,\n",
       "        3.3095272e-05, -3.6309264e-03, -2.1527377e-03, -4.5579789e-05,\n",
       "        4.1233632e-03,  5.7147434e-03,  1.2920191e-05, -1.5337279e-03,\n",
       "       -4.3564694e-04,  1.9934331e-03,  2.6154361e-05, -4.9390616e-03,\n",
       "        3.1728523e-05,  1.2420343e-05,  2.7668601e-05,  4.0386636e-03,\n",
       "       -1.6056243e-03,  4.3591834e-03,  3.4356449e-04, -1.1748793e-04,\n",
       "       -2.3769150e-03,  3.1319799e-04, -3.2233337e-03, -3.7501564e-03,\n",
       "        3.9703894e-04, -1.3399894e-04,  4.8515529e-05,  4.2411506e-05,\n",
       "        4.6084606e-04,  1.0544282e-03, -2.4193967e-05, -1.5680997e-03],      dtype=float32), 'kernel': Array([[-3.11247073e-04,  5.77853680e-05, -3.17700207e-04,\n",
       "        -4.05710161e-04,  1.17068645e-03, -4.17849515e-06,\n",
       "        -3.63664640e-06, -1.35951547e-03,  1.74130852e-04,\n",
       "         3.01310531e-04, -1.59978504e-06, -7.57275993e-05,\n",
       "        -1.61396893e-05, -3.58686520e-04, -4.76452406e-04,\n",
       "         1.20862351e-05, -2.82254496e-06, -5.27842603e-05,\n",
       "         1.52319744e-05, -3.16322461e-04,  1.05323170e-06,\n",
       "        -1.01990052e-04, -1.00969407e-03,  8.64090907e-05,\n",
       "         7.84918757e-06, -3.94092465e-04, -1.58533905e-04,\n",
       "        -3.84059695e-06,  5.64369293e-05, -1.33082340e-03,\n",
       "         3.73574730e-04, -3.84181592e-04,  5.02291778e-06,\n",
       "        -3.97078926e-04, -3.51287192e-04, -5.00546321e-06,\n",
       "         6.51662296e-04,  2.51007220e-03, -3.40305019e-06,\n",
       "        -1.14546157e-04,  6.39539503e-04, -7.77215464e-05,\n",
       "         4.31204126e-06, -5.48612559e-04,  7.03497153e-06,\n",
       "        -9.20793468e-07,  6.67126415e-07,  1.75618788e-03,\n",
       "        -2.43177317e-04,  1.86630979e-03,  4.77488757e-05,\n",
       "        -1.08635595e-06, -2.05696633e-04, -1.42533390e-05,\n",
       "        -1.78429880e-04, -3.03308712e-04, -2.06953846e-03,\n",
       "         2.29616330e-06,  7.47079912e-06,  3.19010201e-06,\n",
       "         3.85993917e-05, -6.94021059e-04, -3.63798154e-06,\n",
       "        -1.68359024e-04],\n",
       "       [-1.00729019e-04,  2.34888084e-05, -3.60516278e-05,\n",
       "         8.27138574e-05,  5.64503644e-05,  4.96626228e-07,\n",
       "        -2.02454339e-06,  9.24033957e-05,  1.17194613e-05,\n",
       "         1.21262910e-05, -1.35922846e-06,  2.15101609e-05,\n",
       "         4.23068996e-05, -1.21514204e-04,  7.29381718e-05,\n",
       "         2.11641122e-07, -1.47440619e-06, -2.73820442e-05,\n",
       "         1.15565274e-06,  4.36016562e-05, -8.81635387e-08,\n",
       "         1.32223009e-04,  9.33699921e-05,  2.69855791e-05,\n",
       "         8.74360637e-08,  1.09752604e-04, -9.60042671e-05,\n",
       "        -1.40230009e-06,  2.53124435e-05,  2.30471211e-04,\n",
       "         2.82329825e-06, -5.56323830e-05,  1.57401882e-06,\n",
       "        -1.45199374e-04, -9.01363383e-05, -2.00364866e-06,\n",
       "         1.16827447e-04,  6.67531349e-05,  9.19037745e-07,\n",
       "        -6.24436216e-05, -3.02939452e-06,  8.43715825e-05,\n",
       "         1.42360773e-06, -1.07543499e-04,  1.53628309e-06,\n",
       "         4.39275397e-07,  1.40248630e-06,  4.64252480e-05,\n",
       "        -7.25712453e-05,  5.48962416e-05,  1.55741582e-05,\n",
       "        -1.30561648e-06, -8.71759548e-05,  1.25562219e-05,\n",
       "        -1.22759899e-04, -1.16604620e-04,  1.44734426e-04,\n",
       "        -1.39642123e-06,  2.31997478e-06,  1.89574598e-06,\n",
       "         1.96583132e-05,  9.47788212e-05, -1.03735306e-06,\n",
       "        -7.69377584e-05]], dtype=float32)}, 'Dense_1': {'bias': Array([-1.05814397e-05, -6.88163436e-06,  1.80580537e-06,  1.10999863e-05,\n",
       "        3.35395715e-04, -1.78433314e-04, -9.31059367e-06,  1.55256464e-04,\n",
       "        7.43435885e-06,  8.72317651e-06,  4.59082570e-04, -1.61185558e-03,\n",
       "        2.97035399e-07,  2.15735612e-03,  7.39032612e-06,  3.22838173e-06,\n",
       "        5.80683351e-04,  1.13657898e-05, -5.16826185e-05, -3.96314863e-06,\n",
       "        1.00984344e-05,  1.59048068e-06, -2.59616785e-03, -5.88203256e-05,\n",
       "        4.46264994e-06,  1.22227310e-03,  5.53709924e-06, -5.79126618e-06,\n",
       "       -2.79261599e-06,  6.05291052e-06, -1.90124933e-06, -1.00280704e-06,\n",
       "        4.17204546e-06,  7.11715029e-06, -2.64494854e-04,  1.02608346e-05,\n",
       "       -7.10955355e-04, -2.14536303e-05,  6.99454313e-06,  6.20538685e-06,\n",
       "        6.48425339e-05, -1.71241234e-04,  1.07161350e-05, -6.84564111e-06,\n",
       "       -7.38685503e-06, -1.29327964e-05, -9.59093632e-06, -9.81535231e-06,\n",
       "       -1.33253097e-05, -1.09139000e-05,  7.23571520e-06,  1.21594958e-05,\n",
       "       -2.50229004e-06,  1.27644917e-05, -1.45840222e-05, -1.04434603e-05,\n",
       "       -3.26681902e-06, -1.04143843e-03,  8.43774251e-06,  1.81667763e-03,\n",
       "       -1.39952572e-05,  1.19403185e-05, -4.45823503e-07, -7.20531447e-04],      dtype=float32), 'kernel': Array([[-3.3222965e-05,  6.2162889e-07,  2.8563127e-06, ...,\n",
       "        -1.1592740e-06, -2.3723436e-08,  7.7825978e-05],\n",
       "       [ 5.6223462e-06,  1.1425855e-06, -6.6929206e-06, ...,\n",
       "        -1.9835377e-06,  6.5531196e-08,  1.1852297e-04],\n",
       "       [-4.4143308e-05,  1.2623665e-06,  3.8258164e-05, ...,\n",
       "        -2.3072207e-06,  5.0267641e-08,  1.4859955e-04],\n",
       "       ...,\n",
       "       [ 2.1641663e-05, -9.2946220e-07, -2.9274457e-05, ...,\n",
       "         1.6266135e-06, -7.2991391e-08, -1.0377239e-04],\n",
       "       [-4.5435932e-08,  1.8152241e-08,  2.7273404e-07, ...,\n",
       "        -3.3090625e-08,  6.2661254e-10,  1.7919417e-06],\n",
       "       [-2.8176919e-05, -6.2550470e-07,  6.0487873e-05, ...,\n",
       "         1.0698899e-06,  5.1612560e-08, -5.8093170e-05]], dtype=float32)}}}}, nu={'params': {'Dense_0': {'bias': Array([1.737902e-05], dtype=float32), 'kernel': Array([[1.3042586e-06],\n",
       "       [2.1330782e-10],\n",
       "       [5.3303432e-07],\n",
       "       [3.8372008e-10],\n",
       "       [5.0779846e-07],\n",
       "       [1.9194647e-07],\n",
       "       [4.6924042e-10],\n",
       "       [1.8624235e-06],\n",
       "       [4.6130888e-10],\n",
       "       [4.2095663e-10],\n",
       "       [1.7305885e-07],\n",
       "       [1.5516070e-04],\n",
       "       [2.7226352e-10],\n",
       "       [3.6635995e-04],\n",
       "       [2.8087865e-10],\n",
       "       [2.2145123e-10],\n",
       "       [7.3115820e-07],\n",
       "       [3.6220774e-10],\n",
       "       [1.3474194e-06],\n",
       "       [2.1108830e-10],\n",
       "       [3.5476164e-10],\n",
       "       [2.4081295e-10],\n",
       "       [5.2016258e-04],\n",
       "       [1.3475038e-06],\n",
       "       [2.8740613e-10],\n",
       "       [5.7903519e-05],\n",
       "       [2.6784749e-10],\n",
       "       [4.4544932e-10],\n",
       "       [1.7801133e-10],\n",
       "       [2.9759367e-10],\n",
       "       [2.6432714e-10],\n",
       "       [1.8920975e-10],\n",
       "       [2.7737151e-10],\n",
       "       [3.8855222e-10],\n",
       "       [2.9359472e-07],\n",
       "       [3.2895139e-10],\n",
       "       [4.7039225e-07],\n",
       "       [1.3473584e-06],\n",
       "       [4.0632178e-10],\n",
       "       [3.1828859e-10],\n",
       "       [7.6009121e-07],\n",
       "       [3.2350255e-07],\n",
       "       [3.3936917e-10],\n",
       "       [2.6797486e-10],\n",
       "       [1.3475235e-06],\n",
       "       [3.3864272e-10],\n",
       "       [3.9133691e-10],\n",
       "       [3.8048478e-10],\n",
       "       [4.2775683e-10],\n",
       "       [3.6877379e-10],\n",
       "       [4.4756115e-10],\n",
       "       [3.9560275e-10],\n",
       "       [1.8375461e-10],\n",
       "       [3.7288972e-10],\n",
       "       [3.7275025e-10],\n",
       "       [3.6477640e-10],\n",
       "       [2.2319208e-10],\n",
       "       [8.2843317e-06],\n",
       "       [1.3475236e-06],\n",
       "       [2.5063159e-04],\n",
       "       [3.3367389e-10],\n",
       "       [3.4273581e-10],\n",
       "       [1.8307333e-10],\n",
       "       [5.0788532e-07]], dtype=float32)}, 'Dense_1': {'bias': Array([3.7881623e-06, 1.8790464e-06, 6.0280922e-06], dtype=float32), 'kernel': Array([[2.85502040e-07, 1.41652976e-07, 4.59634407e-07],\n",
       "       [4.27811710e-11, 2.24721908e-11, 6.12848106e-11],\n",
       "       [1.10720919e-07, 5.92750560e-08, 2.53191615e-07],\n",
       "       [6.25530946e-11, 4.12636453e-11, 1.04014457e-10],\n",
       "       [9.64131530e-08, 5.64425022e-08, 1.70205126e-07],\n",
       "       [4.14933758e-08, 2.06713988e-08, 3.63191219e-08],\n",
       "       [6.31588878e-11, 5.02017421e-11, 1.29071379e-10],\n",
       "       [6.29941553e-07, 1.58676258e-07, 2.70711638e-07],\n",
       "       [6.54898080e-11, 4.93476787e-11, 1.36120365e-10],\n",
       "       [6.80787510e-11, 4.49574683e-11, 1.10019480e-10],\n",
       "       [2.20774758e-08, 1.97537382e-08, 6.97173945e-08],\n",
       "       [3.88514309e-05, 1.69535651e-05, 3.00713727e-05],\n",
       "       [6.88818239e-11, 2.90336071e-11, 8.17499887e-11],\n",
       "       [6.83236431e-05, 4.01928701e-05, 9.37750956e-05],\n",
       "       [4.94378045e-11, 2.93668770e-11, 7.46740031e-11],\n",
       "       [5.79143296e-11, 2.27332615e-11, 6.46993015e-11],\n",
       "       [1.50657087e-07, 8.04838720e-08, 2.84375830e-07],\n",
       "       [5.60996666e-11, 3.80746754e-11, 9.93670285e-11],\n",
       "       [2.93719211e-07, 1.45684936e-07, 4.67368636e-07],\n",
       "       [4.76833815e-11, 2.18539145e-11, 5.84138155e-11],\n",
       "       [5.70046128e-11, 3.75487245e-11, 9.37324038e-11],\n",
       "       [6.09618883e-11, 2.51942165e-11, 7.06309317e-11],\n",
       "       [1.81157855e-04, 4.95940403e-05, 1.44881225e-04],\n",
       "       [2.93723019e-07, 1.45694173e-07, 4.67392709e-07],\n",
       "       [4.86984342e-11, 2.99125412e-11, 7.26869676e-11],\n",
       "       [1.40440134e-05, 6.34433127e-06, 1.20594032e-05],\n",
       "       [5.09171455e-11, 2.83096879e-11, 7.59580593e-11],\n",
       "       [6.95708144e-11, 4.71229791e-11, 1.26847227e-10],\n",
       "       [4.40961434e-11, 1.85014139e-11, 4.72838955e-11],\n",
       "       [4.82903301e-11, 3.14017146e-11, 8.63612515e-11],\n",
       "       [5.26663296e-11, 2.90626481e-11, 5.37877833e-11],\n",
       "       [4.09523804e-11, 1.99004129e-11, 5.15346064e-11],\n",
       "       [5.79964410e-11, 2.92727093e-11, 8.31986216e-11],\n",
       "       [7.01775513e-11, 4.13047756e-11, 1.12455559e-10],\n",
       "       [1.00809196e-07, 3.10517869e-08, 8.01530007e-08],\n",
       "       [5.55283736e-11, 3.53029828e-11, 8.48185897e-11],\n",
       "       [1.37997645e-07, 5.06927691e-08, 2.05311835e-07],\n",
       "       [2.93717676e-07, 1.45678342e-07, 4.67353175e-07],\n",
       "       [6.57150931e-11, 4.32305268e-11, 1.17631321e-10],\n",
       "       [5.70706538e-11, 3.39654936e-11, 9.48650047e-11],\n",
       "       [1.71590187e-07, 8.36368841e-08, 3.14866412e-07],\n",
       "       [1.16680049e-07, 3.10259232e-08, 8.95207748e-08],\n",
       "       [5.70768467e-11, 3.65029049e-11, 9.43913697e-11],\n",
       "       [4.76468101e-11, 2.88841780e-11, 6.21542540e-11],\n",
       "       [2.93727282e-07, 1.45697314e-07, 4.67417976e-07],\n",
       "       [5.36669736e-11, 3.59967924e-11, 9.99704763e-11],\n",
       "       [6.21326740e-11, 4.20325684e-11, 1.18171473e-10],\n",
       "       [6.52325971e-11, 3.99372306e-11, 1.03966689e-10],\n",
       "       [6.70545078e-11, 4.49590608e-11, 1.21962593e-10],\n",
       "       [5.37832973e-11, 3.96871772e-11, 9.82166501e-11],\n",
       "       [6.62327693e-11, 4.76504773e-11, 1.29381589e-10],\n",
       "       [6.22754973e-11, 4.26999755e-11, 1.12546909e-10],\n",
       "       [4.49392398e-11, 1.93598471e-11, 5.39172179e-11],\n",
       "       [6.13738713e-11, 3.99926099e-11, 1.00977296e-10],\n",
       "       [5.71821444e-11, 4.04472462e-11, 1.12915073e-10],\n",
       "       [5.96473704e-11, 3.81615191e-11, 1.05444327e-10],\n",
       "       [4.68469048e-11, 2.33172977e-11, 5.50487815e-11],\n",
       "       [2.75111233e-06, 7.42831787e-07, 9.02184013e-07],\n",
       "       [2.93726828e-07, 1.45697570e-07, 4.67417294e-07],\n",
       "       [5.08934536e-05, 2.74314352e-05, 5.90093150e-05],\n",
       "       [4.81868469e-11, 3.57677499e-11, 8.99529964e-11],\n",
       "       [5.94500074e-11, 3.66446075e-11, 9.66535185e-11],\n",
       "       [4.55098390e-11, 1.91139778e-11, 5.39809100e-11],\n",
       "       [1.46572717e-07, 5.47993828e-08, 2.18479727e-07]], dtype=float32)}, 'MLP_0': {'Dense_0': {'bias': Array([4.8989150e-05, 9.9800263e-07, 8.5557422e-06, 1.2297608e-05,\n",
       "       6.2381863e-05, 4.6577320e-10, 3.7950379e-10, 3.9465165e-05,\n",
       "       1.9664915e-06, 1.6173417e-06, 4.1566747e-10, 7.7552539e-07,\n",
       "       4.4984481e-06, 5.5111250e-05, 1.4096803e-05, 6.6875144e-10,\n",
       "       2.6676816e-10, 2.2386341e-06, 1.0186390e-09, 4.4386120e-06,\n",
       "       1.5010559e-10, 4.5887860e-05, 5.1759653e-05, 1.4806823e-06,\n",
       "       4.8412002e-10, 2.4405606e-05, 2.1704649e-05, 2.9275699e-10,\n",
       "       1.1628795e-06, 6.8322799e-05, 4.0188770e-06, 2.6753958e-05,\n",
       "       2.7095950e-10, 3.2092972e-05, 2.6809555e-05, 3.9761650e-10,\n",
       "       7.1136470e-05, 1.9814032e-04, 6.8482392e-10, 5.7759626e-06,\n",
       "       2.4892931e-06, 3.5722227e-05, 3.7172232e-10, 5.2015617e-05,\n",
       "       1.7150117e-10, 3.0334063e-10, 4.7500431e-10, 5.8475955e-05,\n",
       "       1.4784953e-05, 7.6401913e-05, 3.9315290e-07, 1.9255513e-07,\n",
       "       1.6323276e-05, 2.6298818e-07, 2.0796102e-05, 3.8882099e-05,\n",
       "       8.5388325e-05, 5.4322751e-08, 3.3196329e-10, 5.5783261e-10,\n",
       "       9.5292495e-07, 3.1905944e-05, 1.8607814e-10, 2.2517139e-05],      dtype=float32), 'kernel': Array([[4.99417592e-06, 2.97167020e-07, 1.79305596e-06, 1.36943345e-06,\n",
       "        1.24942417e-05, 6.74951553e-11, 4.70868448e-11, 6.81633765e-06,\n",
       "        2.70490943e-07, 8.98528583e-07, 4.96671385e-11, 1.18969581e-07,\n",
       "        6.55600275e-07, 5.33522052e-06, 1.36072390e-06, 1.04729475e-10,\n",
       "        3.42722968e-11, 6.64431923e-07, 1.52484511e-10, 5.62881439e-07,\n",
       "        2.46152022e-11, 4.05887477e-06, 8.67176004e-06, 4.04245753e-07,\n",
       "        6.90267496e-11, 3.45507237e-06, 2.19231561e-06, 3.53947982e-11,\n",
       "        1.61017681e-07, 6.31873900e-06, 2.35898278e-06, 6.14944793e-06,\n",
       "        3.57548609e-11, 4.87491070e-06, 5.64772381e-06, 4.06404528e-11,\n",
       "        1.11527097e-05, 4.04730672e-05, 9.00931482e-11, 8.54483346e-07,\n",
       "        1.66582345e-06, 5.48805428e-06, 4.68644810e-11, 8.65353104e-06,\n",
       "        2.52432120e-11, 3.91927983e-11, 6.05370129e-11, 1.27272197e-05,\n",
       "        3.40107522e-06, 1.65419060e-05, 1.20400173e-07, 3.58257992e-08,\n",
       "        1.93760184e-06, 8.32629397e-08, 2.08953611e-06, 3.88159060e-06,\n",
       "        1.50286978e-05, 1.65515743e-08, 3.79459311e-11, 5.62324319e-11,\n",
       "        2.13812527e-07, 4.72785450e-06, 2.72363312e-11, 4.10475877e-06],\n",
       "       [3.03976080e-08, 1.23965882e-09, 2.78762768e-09, 1.14883854e-08,\n",
       "        4.65195065e-08, 6.77206392e-13, 6.49591112e-13, 3.58792995e-08,\n",
       "        2.32955988e-09, 1.07685105e-09, 6.76742408e-13, 1.00402076e-09,\n",
       "        7.48354179e-09, 3.28796901e-08, 9.77870140e-09, 1.05823618e-12,\n",
       "        4.00267059e-13, 2.42332421e-09, 1.61042653e-12, 4.37366676e-09,\n",
       "        2.06933293e-13, 4.89083405e-08, 8.33429894e-08, 1.47446766e-09,\n",
       "        7.14406019e-13, 3.26090621e-08, 1.38849510e-08, 4.51085675e-13,\n",
       "        8.68124184e-10, 6.80605510e-08, 1.79530824e-09, 1.03493631e-08,\n",
       "        3.89932308e-13, 3.14552011e-08, 3.56198200e-08, 6.58934767e-13,\n",
       "        7.54828307e-08, 1.22947341e-07, 1.18155008e-12, 5.33813127e-09,\n",
       "        6.93203328e-10, 6.63732322e-08, 6.83968507e-13, 1.94920577e-08,\n",
       "        2.83822011e-13, 5.18847226e-13, 7.80819148e-13, 1.35768383e-08,\n",
       "        1.87482065e-08, 2.29843682e-08, 4.86775342e-10, 2.39395198e-10,\n",
       "        1.08220313e-08, 2.36120123e-10, 1.59300111e-08, 2.48114027e-08,\n",
       "        7.94338817e-08, 4.80561736e-11, 5.47658544e-13, 9.26886172e-13,\n",
       "        1.35317724e-09, 5.44470780e-08, 2.41199964e-13, 3.31842074e-08]],      dtype=float32)}, 'Dense_1': {'bias': Array([2.39875817e-07, 1.14846804e-11, 1.46253933e-06, 3.59619973e-11,\n",
       "       1.02959466e-05, 2.60746418e-07, 4.72969268e-11, 8.81663880e-08,\n",
       "       3.81503926e-11, 3.05289197e-11, 9.61625346e-07, 6.98226140e-05,\n",
       "       1.07723769e-11, 1.22496449e-05, 1.48333776e-11, 8.26477602e-12,\n",
       "       2.27569740e-06, 2.93036012e-11, 1.01926956e-09, 8.32259869e-12,\n",
       "       3.25238794e-11, 8.62063719e-12, 2.47620628e-05, 5.80197113e-10,\n",
       "       1.29708085e-11, 3.90844798e-05, 1.46430160e-11, 3.89492535e-11,\n",
       "       7.36838108e-12, 1.47225999e-11, 7.86511481e-12, 5.14323263e-12,\n",
       "       1.25119862e-11, 2.62530015e-11, 4.55317576e-07, 2.42151976e-11,\n",
       "       1.26997588e-06, 1.04716980e-09, 3.62732171e-11, 1.57760662e-11,\n",
       "       1.79901565e-06, 2.86066978e-07, 2.68729813e-11, 1.36779529e-11,\n",
       "       3.76259940e-10, 3.21400233e-11, 3.87535941e-11, 2.88333663e-11,\n",
       "       4.53816498e-11, 3.11682277e-11, 3.42882805e-11, 3.56560510e-11,\n",
       "       7.52865478e-12, 3.58935139e-11, 4.93271465e-11, 2.60644509e-11,\n",
       "       6.51754605e-12, 1.45610520e-05, 4.18317408e-10, 2.08738966e-05,\n",
       "       3.70944525e-11, 2.75723402e-11, 7.17792189e-12, 1.07842629e-06],      dtype=float32), 'kernel': Array([[4.20383586e-08, 1.35232794e-13, 7.71628716e-09, ...,\n",
       "        3.17988826e-13, 1.07615814e-13, 9.59891633e-09],\n",
       "       [1.04587956e-08, 3.45225340e-13, 4.56729481e-08, ...,\n",
       "        7.86886398e-13, 2.33409375e-13, 3.33398553e-08],\n",
       "       [1.04603416e-07, 4.25891527e-13, 2.57425796e-08, ...,\n",
       "        1.05184980e-12, 3.20695131e-13, 2.57905377e-08],\n",
       "       ...,\n",
       "       [8.75568773e-09, 1.64919334e-13, 1.18470975e-08, ...,\n",
       "        4.77625643e-13, 8.35153615e-14, 1.06388782e-08],\n",
       "       [8.84449035e-14, 2.44749459e-17, 6.89262070e-13, ...,\n",
       "        7.99321964e-17, 3.60198486e-18, 5.56221031e-13],\n",
       "       [8.19087944e-08, 4.83237907e-13, 5.34143823e-08, ...,\n",
       "        7.33915804e-13, 5.53841207e-13, 4.70218069e-08]], dtype=float32)}}}}), EmptyState())), q_target_params={'params': {'Dense_0': {'bias': Array([-2.7513332], dtype=float32), 'kernel': Array([[ 2.7539394e+00],\n",
       "       [ 2.6419404e-04],\n",
       "       [ 3.1983418e+00],\n",
       "       [ 4.4495161e-04],\n",
       "       [ 3.0532975e+00],\n",
       "       [ 1.6743209e+00],\n",
       "       [ 6.1585364e-05],\n",
       "       [-7.7403776e-02],\n",
       "       [ 2.8426258e-04],\n",
       "       [ 2.6603587e-04],\n",
       "       [ 4.3860531e+00],\n",
       "       [-2.8574333e+00],\n",
       "       [ 7.9766432e-05],\n",
       "       [ 8.8776869e-01],\n",
       "       [-2.8804826e-04],\n",
       "       [ 2.0040783e-04],\n",
       "       [ 2.7267327e+00],\n",
       "       [ 3.2123568e-04],\n",
       "       [ 2.8468237e+00],\n",
       "       [-3.3582654e-04],\n",
       "       [-1.0959587e-04],\n",
       "       [-4.6370220e-05],\n",
       "       [-1.1659375e+00],\n",
       "       [ 2.6964679e+00],\n",
       "       [ 1.8734147e-04],\n",
       "       [ 2.1093895e+00],\n",
       "       [ 2.6390946e-04],\n",
       "       [-3.4090516e-04],\n",
       "       [ 2.6391086e-04],\n",
       "       [ 2.0779838e-04],\n",
       "       [-9.4461451e-05],\n",
       "       [ 2.1254897e-04],\n",
       "       [ 2.2984763e-04],\n",
       "       [ 3.3071279e-04],\n",
       "       [ 3.4341600e+00],\n",
       "       [ 3.2658331e-04],\n",
       "       [ 3.0670981e+00],\n",
       "       [ 2.7328134e+00],\n",
       "       [ 2.2358485e-04],\n",
       "       [ 3.2197408e-04],\n",
       "       [ 2.9945822e+00],\n",
       "       [ 2.5920732e+00],\n",
       "       [-5.1253846e-05],\n",
       "       [-2.0827791e-04],\n",
       "       [ 2.7339747e+00],\n",
       "       [ 2.0074651e-04],\n",
       "       [-1.1237780e-04],\n",
       "       [-3.5871740e-04],\n",
       "       [-3.4409936e-04],\n",
       "       [-2.4088999e-04],\n",
       "       [-1.6495059e-04],\n",
       "       [ 9.7398437e-04],\n",
       "       [ 1.1203183e-04],\n",
       "       [ 3.3531588e-04],\n",
       "       [-3.3486629e-04],\n",
       "       [-3.3060502e-04],\n",
       "       [-4.6158253e-04],\n",
       "       [ 2.1757441e+00],\n",
       "       [ 2.7446485e+00],\n",
       "       [ 1.5278921e+00],\n",
       "       [-1.7240284e-04],\n",
       "       [ 2.1844715e-04],\n",
       "       [ 4.6321602e-05],\n",
       "       [ 2.6467202e+00]], dtype=float32)}, 'Dense_1': {'bias': Array([-0.09031761, -0.09063085,  0.1560401 ], dtype=float32), 'kernel': Array([[ 6.81186542e-02, -1.73569955e-02,  4.97739166e-02],\n",
       "       [-1.11571588e-01, -1.10855952e-01, -1.11883968e-01],\n",
       "       [-6.04420066e-01,  4.13819477e-02,  2.65172243e-01],\n",
       "       [-1.23414196e-01, -1.23089783e-01, -1.22760683e-01],\n",
       "       [-8.85883629e-01,  1.06309280e-01,  3.42668951e-01],\n",
       "       [-3.71456534e-01,  1.67874202e-01,  3.88908654e-01],\n",
       "       [-5.37310839e-02, -5.28197326e-02, -5.37540428e-02],\n",
       "       [-1.67734101e-02, -2.35251710e-01,  1.06275409e-01],\n",
       "       [ 6.27174079e-02,  6.31511956e-02,  6.35002330e-02],\n",
       "       [-7.35641718e-02, -7.34914765e-02, -7.26693571e-02],\n",
       "       [ 1.94512975e+00, -1.18781555e+00, -9.88725364e-01],\n",
       "       [-3.34752321e-01,  1.85235888e-01,  2.16905817e-01],\n",
       "       [-7.00640231e-02, -7.01937750e-02, -7.02833086e-02],\n",
       "       [-1.45668373e-01, -7.20528215e-02,  1.31401300e-01],\n",
       "       [-1.54607147e-01, -1.55234933e-01, -1.54323429e-01],\n",
       "       [ 1.40905352e-02,  1.45860901e-02,  1.46037107e-02],\n",
       "       [ 1.84843457e+00, -3.84060144e-01, -1.07047105e+00],\n",
       "       [ 3.32414010e-03,  3.29569122e-03,  3.90870171e-03],\n",
       "       [ 1.43559769e-01,  7.54677802e-02, -3.19431499e-02],\n",
       "       [-9.39576477e-02, -9.46558937e-02, -9.38449427e-02],\n",
       "       [ 5.01206368e-02,  4.94931154e-02,  5.05317934e-02],\n",
       "       [-2.31792256e-02, -2.29731183e-02, -2.28657164e-02],\n",
       "       [-6.53501367e-03, -2.58102659e-02, -8.83992016e-02],\n",
       "       [ 9.24381763e-02, -4.66637462e-02, -1.16913520e-01],\n",
       "       [-8.10649097e-02, -8.01165551e-02, -8.06180462e-02],\n",
       "       [ 7.78023124e-01, -2.42839709e-01, -2.37860635e-01],\n",
       "       [-1.22629955e-01, -1.21843614e-01, -1.22325242e-01],\n",
       "       [ 1.14793554e-02,  1.11130988e-02,  1.07308337e-02],\n",
       "       [-1.23497099e-01, -1.22985803e-01, -1.23787425e-01],\n",
       "       [ 6.40853122e-02,  6.45901188e-02,  6.39572069e-02],\n",
       "       [ 3.52829173e-02,  3.52052636e-02,  3.50770578e-02],\n",
       "       [ 4.03014012e-02,  4.07182574e-02,  4.02445905e-02],\n",
       "       [-4.72186878e-02, -4.67390604e-02, -4.68236767e-02],\n",
       "       [-4.72128717e-03, -4.34134342e-03, -4.17451700e-03],\n",
       "       [-1.82290539e-01,  1.19561255e-01, -7.53991306e-02],\n",
       "       [-5.86193465e-02, -5.82922995e-02, -5.84748611e-02],\n",
       "       [-1.17379701e+00,  1.12803623e-01,  1.00321448e+00],\n",
       "       [ 1.60456449e-01,  2.23314315e-01, -1.10546693e-01],\n",
       "       [-7.67802298e-02, -7.67795518e-02, -7.65332058e-02],\n",
       "       [ 1.02968119e-01,  1.03530928e-01,  1.03166103e-01],\n",
       "       [ 1.25990677e+00, -5.17377779e-02, -9.67434525e-01],\n",
       "       [ 5.50281227e-01, -1.07311293e-01, -3.31976593e-01],\n",
       "       [-3.70305665e-02, -3.69697437e-02, -3.70801240e-02],\n",
       "       [ 7.99888074e-02,  7.96385929e-02,  7.91668072e-02],\n",
       "       [-2.87233163e-02, -2.44738907e-02, -1.28612697e-01],\n",
       "       [ 7.27305487e-02,  7.37383813e-02,  7.25726411e-02],\n",
       "       [-7.88709801e-03, -7.26144947e-03, -8.11931491e-03],\n",
       "       [ 2.06375327e-02,  2.02468000e-02,  2.00306885e-02],\n",
       "       [-3.23477929e-04, -2.58996442e-04,  1.56103357e-04],\n",
       "       [-2.58472580e-02, -2.58899964e-02, -2.59847436e-02],\n",
       "       [ 1.27340443e-02,  1.17302490e-02,  1.24310702e-02],\n",
       "       [ 8.41166303e-02,  8.72347876e-02,  8.45923051e-02],\n",
       "       [-3.27534452e-02, -3.27333771e-02, -3.27894799e-02],\n",
       "       [-2.43569054e-02, -2.40080711e-02, -2.40317676e-02],\n",
       "       [ 4.51887585e-02,  4.53048460e-02,  4.41726223e-02],\n",
       "       [ 1.05476649e-02,  1.00106075e-02,  9.78658441e-03],\n",
       "       [ 8.01655129e-02,  7.92274475e-02,  7.98967034e-02],\n",
       "       [-1.26703426e-01,  2.75688302e-02,  3.63720879e-02],\n",
       "       [ 2.29601741e-01, -9.95537117e-02, -1.31491721e-01],\n",
       "       [ 2.34436616e-01,  1.40616670e-01, -1.80829093e-01],\n",
       "       [ 6.61507621e-02,  6.57113343e-02,  6.54934868e-02],\n",
       "       [ 2.18993165e-02,  2.19351314e-02,  2.22883150e-02],\n",
       "       [-6.90430775e-02, -6.88019916e-02, -6.89273626e-02],\n",
       "       [-1.14335620e+00,  4.66806233e-01,  1.03659177e+00]],      dtype=float32)}, 'MLP_0': {'Dense_0': {'bias': Array([ 2.75889009e-01, -5.40097892e-01,  7.26528242e-02,  5.35163283e-02,\n",
       "       -3.00585955e-01,  9.68948007e-05, -3.32760916e-04, -5.73127009e-02,\n",
       "       -1.88139766e-01, -1.25583899e+00, -5.96018916e-04, -7.27793872e-01,\n",
       "       -1.28289908e-01,  3.41948569e-01, -4.67297673e-01, -6.33821764e-06,\n",
       "       -4.34906629e-04,  3.20099533e-01, -3.00987158e-04, -5.00183344e-01,\n",
       "        6.20559586e-05, -3.78306389e-01,  1.05457278e-02, -2.45155916e-01,\n",
       "       -1.85455268e-04,  4.56520557e-01,  3.07579875e-01, -1.21501100e-04,\n",
       "       -1.24313332e-01,  2.25022197e-01, -2.35543817e-01,  1.03444159e-01,\n",
       "        3.86251049e-05,  3.94105047e-01,  5.19080281e-01, -3.78021417e-04,\n",
       "        2.50924639e-02, -5.52335083e-01,  4.15712770e-04,  1.87629417e-01,\n",
       "       -9.05765474e-01, -1.41362026e-01, -1.11930174e-04,  2.54525661e-01,\n",
       "        7.45836733e-05,  1.54342561e-05,  3.96659190e-04, -4.42979872e-01,\n",
       "        3.67840618e-01, -4.59460825e-01, -7.77182221e-01, -3.04389168e-02,\n",
       "        1.91806629e-01, -8.99259090e-01,  2.63163447e-01,  3.11790168e-01,\n",
       "        6.24982342e-02, -1.34669328e+00, -1.37569077e-04,  1.74157060e-04,\n",
       "       -5.61953187e-01, -7.73812011e-02, -6.54320247e-05,  3.22569102e-01],      dtype=float32), 'kernel': Array([[ 1.58605576e-01,  3.85299660e-02, -3.58290523e-01,\n",
       "         7.76007414e-01,  2.07997823e+00,  1.72088301e-04,\n",
       "        -1.79963637e-04,  4.55874026e-01,  5.83694100e-01,\n",
       "        -1.51679337e+00, -4.56289039e-04,  1.90778941e-01,\n",
       "        -2.17534155e-01,  1.76964670e-01,  1.04706788e+00,\n",
       "         2.24437521e-04, -5.29181445e-04,  5.27697027e-01,\n",
       "        -4.67436184e-05,  5.66475570e-01,  7.71652558e-05,\n",
       "         2.18017602e+00,  1.85979694e-01, -4.95037623e-02,\n",
       "        -7.17537841e-05,  8.31650913e-01,  1.66024983e-01,\n",
       "         4.30245709e-05,  1.76080078e-01,  9.18574035e-01,\n",
       "        -1.21459734e+00, -3.37652504e-01,  3.23782908e-04,\n",
       "        -4.14010555e-01, -6.06027067e-01, -3.98701988e-04,\n",
       "         2.13815212e+00,  3.32137275e+00,  2.86665192e-04,\n",
       "         4.43751737e-02, -1.17538965e+00, -4.54327375e-01,\n",
       "         2.17487730e-04, -1.23655014e-01,  4.59273760e-05,\n",
       "         8.31731741e-05,  4.09593165e-04,  2.49729538e+00,\n",
       "        -4.02064532e-01,  2.83674335e+00, -3.70470919e-02,\n",
       "         1.36377707e-01,  1.76043510e-01, -4.64729548e-01,\n",
       "        -3.06779027e-01,  1.04662716e-01,  3.62501502e-01,\n",
       "        -2.66359150e-01,  2.26197473e-04,  1.91058120e-04,\n",
       "         9.32963565e-02,  9.67122242e-02, -3.42098901e-05,\n",
       "        -4.69722778e-01],\n",
       "       [-1.16455555e+01,  2.09268022e+00, -1.17918310e+01,\n",
       "         6.31712151e+00,  3.91529240e-02,  7.08522741e-04,\n",
       "        -1.80812785e-05,  9.86357594e+00, -7.32268393e-01,\n",
       "        -2.97280359e+00, -2.76646868e-04,  2.80689669e+00,\n",
       "         3.79306793e+00, -1.12620935e+01,  5.63405371e+00,\n",
       "        -1.34227506e-03, -1.15015276e-03, -1.72570741e+00,\n",
       "        -2.09238860e-04,  4.22757959e+00, -9.24041960e-04,\n",
       "         9.01640320e+00,  9.13962078e+00,  1.16793275e+00,\n",
       "         4.26331157e-04,  4.90346909e+00, -8.19711781e+00,\n",
       "        -7.27282255e-04,  1.20666385e+00,  1.08879347e+01,\n",
       "        -1.27759495e+01, -1.15227451e+01, -4.37083654e-05,\n",
       "        -5.93795443e+00, -4.40124750e+00, -2.52425496e-04,\n",
       "         3.38804102e+00,  1.09629273e+00,  6.62070001e-04,\n",
       "        -4.38901854e+00, -1.85858955e+01,  5.46929359e+00,\n",
       "        -2.72798527e-04, -1.20443125e+01, -2.94832367e-04,\n",
       "         1.61270727e-04,  2.48649187e-04,  2.65542895e-01,\n",
       "        -3.49371362e+00,  7.47040987e-01,  1.95835888e+00,\n",
       "        -1.22943258e+00, -8.48438168e+00,  1.51120937e+00,\n",
       "        -5.73248625e+00, -9.74671841e+00,  1.19441776e+01,\n",
       "        -4.46837187e-01,  8.95134988e-04, -7.07111787e-04,\n",
       "         2.07563138e+00,  6.93333435e+00, -6.70942711e-04,\n",
       "        -3.19078302e+00]], dtype=float32)}, 'Dense_1': {'bias': Array([-8.69630098e-01, -1.03178680e-01, -1.21930194e+00, -2.90034153e-02,\n",
       "       -9.43519175e-01, -1.29748440e+00,  2.24405620e-03, -4.86724973e-02,\n",
       "        2.50718687e-02, -6.18757606e-02, -1.62859893e+00, -5.88547528e-01,\n",
       "       -6.02932237e-02, -2.52596140e-01, -3.55641432e-02, -1.97754912e-02,\n",
       "       -6.35675848e-01, -8.62106532e-02, -4.44356173e-01, -4.62077595e-02,\n",
       "       -2.51256283e-02, -5.05141802e-02,  1.08612335e+00, -3.31120431e-01,\n",
       "       -1.85199473e-02, -7.04141736e-01, -4.96110730e-02, -8.87680948e-02,\n",
       "       -8.87912512e-02, -7.36913979e-02, -4.78375405e-02, -4.30139229e-02,\n",
       "       -5.27456664e-02, -7.76013285e-02, -8.43966246e-01, -8.81371051e-02,\n",
       "       -1.12638462e+00, -4.12952691e-01, -3.70806977e-02, -4.41925079e-02,\n",
       "       -9.15930510e-01, -1.12570226e+00, -5.50883263e-02, -6.78423867e-02,\n",
       "       -8.38121414e-01, -4.80742864e-02, -5.12321554e-02, -6.27495572e-02,\n",
       "        2.00345326e-04, -5.83113618e-02, -8.22219104e-02, -6.68725967e-02,\n",
       "       -9.84948277e-02, -9.75674838e-02, -9.53312367e-02, -1.12994954e-01,\n",
       "       -6.18045963e-02, -9.43188608e-01, -7.05019593e-01, -1.86375543e-01,\n",
       "       -6.18615933e-02, -9.81960669e-02, -6.97510913e-02, -9.78772461e-01],      dtype=float32), 'kernel': Array([[-1.34073347e-01,  6.81996047e-02, -1.86935887e-01, ...,\n",
       "         2.13601552e-02, -2.26133037e-02,  5.98739982e-01],\n",
       "       [ 1.46658257e-01, -1.07002845e-02, -2.09175408e-01, ...,\n",
       "        -3.44000682e-02,  2.57628169e-02,  4.72057551e-01],\n",
       "       [ 4.72683579e-01, -6.43854588e-02, -8.94045830e-01, ...,\n",
       "        -5.26900664e-02,  4.85620461e-02,  4.83781964e-01],\n",
       "       ...,\n",
       "       [ 4.54015620e-02, -8.20911601e-02, -1.09020221e+00, ...,\n",
       "        -9.79591683e-02, -1.23548359e-01,  3.41534674e-01],\n",
       "       [-7.49936141e-03,  2.07545180e-02, -4.15449380e-04, ...,\n",
       "         3.82258161e-03,  4.29187641e-02, -1.20428177e-02],\n",
       "       [-1.94670439e-01,  7.62236770e-03, -5.09605527e-01, ...,\n",
       "        -8.40908848e-03,  1.56985614e-02, -7.39828050e-01]],      dtype=float32)}}}}, replay_buffer=ReplayBuffer(size=50000, data=Minibatch(obs=Array([[-0.47488555,  0.06075869],\n",
       "       [-0.41349092,  0.06139464],\n",
       "       [-0.35190716,  0.06158376],\n",
       "       ...,\n",
       "       [-0.8855298 , -0.05682843],\n",
       "       [-0.94014657, -0.05461675],\n",
       "       [-0.9923911 , -0.05224457]], dtype=float32), action=Array([2, 2, 2, ..., 1, 1, 1], dtype=int32), reward=Array([-1., -1., -1., ..., -1., -1., -1.], dtype=float32), done=Array([False, False, False, ..., False, False, False], dtype=bool), next_obs=Array([[-0.41349092,  0.06139464],\n",
       "       [-0.35190716,  0.06158376],\n",
       "       [-0.2905549 ,  0.06135226],\n",
       "       ...,\n",
       "       [-0.94014657, -0.05461675],\n",
       "       [-0.9923911 , -0.05224457],\n",
       "       [-1.0421695 , -0.04977829]], dtype=float32)), index=Array(0, dtype=int32, weak_type=True), full=Array(True, dtype=bool)), rms_state=RMSState(mean=Array([[0., 0.]], dtype=float32), var=Array([[1., 1.]], dtype=float32), count=Array(1.e-04, dtype=float32, weak_type=True)))"
      ]
     },
     "execution_count": 9,
     "metadata": {},
     "output_type": "execute_result"
    }
   ],
   "source": [
    "train_state"
   ]
  },
  {
   "cell_type": "code",
   "execution_count": 10,
   "metadata": {},
   "outputs": [
    {
     "data": {
      "image/png": "[encoded data removed]",
      "text/plain": [
       "<Figure size 640x480 with 1 Axes>"
      ]
     },
     "metadata": {},
     "output_type": "display_data"
    }
   ],
   "source": [
    "episode_lengths, episode_returns = evaluation\n",
    "mean_return = episode_returns.mean(axis=1)\n",
    "\n",
    "plt.plot(jax.numpy.linspace(0, algo.total_timesteps, len(mean_return)), mean_return)\n",
    "plt.xlabel(\"Environment step\")\n",
    "plt.ylabel(\"Episodic return\")\n",
    "plt.title(f\"Training agent for {env_str} using {algo_str}\")\n",
    "plt.show()"
   ]
  },
  {
   "cell_type": "markdown",
   "metadata": {},
   "source": [
    "Next, we will be looking at the `train_state`, to see what the algorithm produced."
   ]
  },
  {
   "cell_type": "markdown",
   "metadata": {},
   "source": [
    "checking best score"
   ]
  },
  {
   "cell_type": "code",
   "execution_count": 11,
   "metadata": {},
   "outputs": [
    {
     "data": {
      "text/plain": [
       "Array(-83., dtype=float32)"
      ]
     },
     "execution_count": 11,
     "metadata": {},
     "output_type": "execute_result"
    }
   ],
   "source": [
    "episode_lengths, episode_returns = evaluation\n",
    "episode_returns.max(axis=1).max()"
   ]
  },
  {
   "cell_type": "code",
   "execution_count": 12,
   "metadata": {},
   "outputs": [
    {
     "name": "stdout",
     "output_type": "stream",
     "text": [
      "Best Episode Reward: -200.0\n"
     ]
    }
   ],
   "source": [
    "# Identify the best episode and its reward\n",
    "best_idx = jax.numpy.argmin(episode_returns, axis=1)[0]\n",
    "best_reward = episode_returns[best_idx, 0]\n",
    "print(f\"Best Episode Reward: {best_reward}\")"
   ]
  },
  {
   "cell_type": "markdown",
   "metadata": {},
   "source": [
    "`RLinJAX` allows for the use of the function `evaluate` to quickly and parallelly evaluate policies"
   ]
  },
  {
   "cell_type": "code",
   "execution_count": 13,
   "metadata": {},
   "outputs": [],
   "source": [
    "# Algorithms return an agent's policy parameters in its train state. \n",
    "policy = algo.make_act(train_state)\n",
    "policy = jax.jit(policy)"
   ]
  },
  {
   "cell_type": "code",
   "execution_count": 14,
   "metadata": {},
   "outputs": [
    {
     "name": "stdout",
     "output_type": "stream",
     "text": [
      "Evaluated 200 episodes with a total of 28485 environment steps in 0.892598 seconds.\n",
      "Average Episode Return: -142.4250030517578\n",
      "Best Return: -87.0\n",
      "Success Rate: 95.50%\n"
     ]
    }
   ],
   "source": [
    "num_seeds = 200  \n",
    "env, params = gymnax.make(env_str)\n",
    "max_steps = params.max_steps_in_episode\n",
    "\n",
    "start = time.time()\n",
    "\n",
    "# Evaluate Policy\n",
    "episode_lengths, episode_returns = evaluate(policy, rng, env, params, num_seeds, max_steps)\n",
    "\n",
    "time_elapsed = time.time() - start\n",
    "\n",
    "print(\n",
    "    f\"Evaluated {num_seeds} episodes \"\n",
    "    f\"with a total of {jax.numpy.sum(episode_lengths)} environment steps \"\n",
    "    f\"in {time_elapsed:g} seconds.\"\n",
    ")\n",
    "\n",
    "avg_return = jax.numpy.mean(episode_returns)\n",
    "print(f\"Average Episode Return: {avg_return}\")\n",
    "\n",
    "best_return = jax.numpy.max(episode_returns)\n",
    "print(\"Best Return:\", best_return)\n",
    "\n",
    "success_rate = jax.numpy.sum(jax.numpy.array(episode_returns) > -200) / num_seeds\n",
    "print(f\"Success Rate: {success_rate * 100:.2f}%\")"
   ]
  },
  {
   "cell_type": "code",
   "execution_count": 15,
   "metadata": {},
   "outputs": [
    {
     "data": {
      "text/plain": [
       "[Text(0.5, 1.0, 'Episode return')]"
      ]
     },
     "execution_count": 15,
     "metadata": {},
     "output_type": "execute_result"
    },
    {
     "data": {
      "image/png": "[encoded data removed]",
      "text/plain": [
       "<Figure size 800x400 with 2 Axes>"
      ]
     },
     "metadata": {},
     "output_type": "display_data"
    }
   ],
   "source": [
    "fig, axes = plt.subplots(figsize=(8, 4), ncols=2, sharey=\"row\")\n",
    "\n",
    "axes[0].hist(episode_lengths, bins=10)\n",
    "axes[0].set(title=\"Episode length\", ylabel=\"Count\")\n",
    "axes[1].hist(episode_returns)\n",
    "axes[1].set(title=\"Episode return\")"
   ]
  },
  {
   "cell_type": "markdown",
   "metadata": {},
   "source": [
    "## 3. Training the SAC Agent"
   ]
  },
  {
   "cell_type": "markdown",
   "metadata": {},
   "source": [
    "In this part of the project we will be performing **Deep Reinforcement Learning using JAX**, a library for array-oriented computation that enables high-performance machine learning research. Although Deep Reinforcement Learning can be computationally expensive and data-intensive, it is a powerful framework for solving problems where explicit programming or rule-based approaches fall short.\n",
    "\n",
    "In contrast with both `Q-Learning` and `DQL`, Soft Actor-Critic, `SAC` is ready for a continuous action space, something that doesn't happen in MountainCar-V0 environment, where there are only 3 discrete actions. \n",
    "\n",
    "The group searched for solutions and found that there was a version of `SAC` that was ready for a discrete action space, `SAC-Discrete`. However, we ended up not using this algorithm and instead switched to the continuous version of the environment, *MountainCarContinuous* because the available version of RLinJAX, that we where told to use on the assignment didn't include any training agent equivalent to `SAC-Discrete` and although we found some versions of SAC-Discrete online we thouhght we weren't supposed to use external libraries or to adapt the given SAC to SAC-Discrete.\n",
    "\n",
    "Because of this, we decided to simply alter the environment and get less relevant results for an overall analysis at the gain that we got the code up and running."
   ]
  },
  {
   "cell_type": "markdown",
   "metadata": {},
   "source": [
    "#### 3.1 Creating a Gymnax environment: Mountain Car Continuous\n",
    "\n",
    "This time we will be using `gymnax` intead of `gym` as it is ideal for applications like meta-reinforcement learning. It provides precise functional control over environment settings, such as random seeds and hyperparameters, and enables parallelized rollouts across different configurations."
   ]
  },
  {
   "cell_type": "markdown",
   "metadata": {},
   "source": [
    "The Mountain Car Continuous Environment is simmilar to Mountain Car exept for the fact that it isn't discretely limited on what actions it can take. Essentially the acceleration of the car can take any value betwheen -1 and 1 instead of the [-1, 0, 1] options in the discrete version of the env. \n",
    "\n",
    "In addition to this, the reward system is also different. On MountainCar-Discrete the agent is penalized for each action it takes, without recieving any posisiive reward for reaching the goal. This doesn't happen in the continuous environment. Instead the agent is penalized acordingly to the intensity of it's action (actions with values further from 0 are more penalized) and recieves a reward of 100 points for reaching the goal. Meaning the Continuous Environment can have positively rewarded episodes where higher the higher the better, while in the discrete environments the limit is 0 and the closer to 0 the better."
   ]
  },
  {
   "cell_type": "code",
   "execution_count": 16,
   "metadata": {},
   "outputs": [
    {
     "data": {
      "text/plain": [
       "EnvParams(max_steps_in_episode=999, min_action=-1.0, max_action=1.0, min_position=-1.2, max_position=0.6, max_speed=0.07, goal_position=0.45, goal_velocity=0.0, power=0.0015, gravity=0.0025)"
      ]
     },
     "execution_count": 16,
     "metadata": {},
     "output_type": "execute_result"
    }
   ],
   "source": [
    "rng = jax.random.PRNGKey(0)\n",
    "rng, key_reset, key_policy, key_step = jax.random.split(rng, 4)\n",
    "\n",
    "# create the Mountain Car environment\n",
    "env, env_params = gymnax.make('MountainCarContinuous-v0')\n",
    "# inspect default environment settings\n",
    "env_params"
   ]
  },
  {
   "cell_type": "code",
   "execution_count": 17,
   "metadata": {},
   "outputs": [
    {
     "name": "stdout",
     "output_type": "stream",
     "text": [
      "(2,)\n"
     ]
    }
   ],
   "source": [
    "print(env.observation_space(env_params).shape)"
   ]
  },
  {
   "cell_type": "code",
   "execution_count": 18,
   "metadata": {},
   "outputs": [
    {
     "ename": "AttributeError",
     "evalue": "'Box' object has no attribute 'n'",
     "output_type": "error",
     "traceback": [
      "\u001b[0;31m---------------------------------------------------------------------------\u001b[0m",
      "\u001b[0;31mAttributeError\u001b[0m                            Traceback (most recent call last)",
      "Cell \u001b[0;32mIn[18], line 2\u001b[0m\n\u001b[1;32m      1\u001b[0m \u001b[38;5;66;03m# This Error happens because the environment's action space is continuous, therefore we can't put a number on the ammount of possible actions.\u001b[39;00m\n\u001b[0;32m----> 2\u001b[0m \u001b[38;5;28mprint\u001b[39m(\u001b[43menv\u001b[49m\u001b[38;5;241;43m.\u001b[39;49m\u001b[43maction_space\u001b[49m\u001b[43m(\u001b[49m\u001b[43menv_params\u001b[49m\u001b[43m)\u001b[49m\u001b[38;5;241;43m.\u001b[39;49m\u001b[43mn\u001b[49m)\n",
      "\u001b[0;31mAttributeError\u001b[0m: 'Box' object has no attribute 'n'"
     ]
    }
   ],
   "source": [
    "# This Error happens because the environment's action space is continuous, therefore we can't put a number on the ammount of possible actions.\n",
    "print(env.action_space(env_params).n)"
   ]
  },
  {
   "cell_type": "code",
   "execution_count": 19,
   "metadata": {},
   "outputs": [
    {
     "data": {
      "text/plain": [
       "(Array([-0.58275205,  0.        ], dtype=float32),\n",
       " EnvState(time=Array(0, dtype=int32, weak_type=True), position=Array(-0.58275205, dtype=float32), velocity=Array(0., dtype=float32, weak_type=True)))"
      ]
     },
     "execution_count": 19,
     "metadata": {},
     "output_type": "execute_result"
    }
   ],
   "source": [
    "obs, state = env.reset(key_reset, env_params)\n",
    "obs, state"
   ]
  },
  {
   "cell_type": "code",
   "execution_count": 20,
   "metadata": {},
   "outputs": [
    {
     "data": {
      "text/plain": [
       "(Array([-0.5808441 ,  0.00190795], dtype=float32),\n",
       " EnvState(time=Array(1, dtype=int32, weak_type=True), position=Array(-0.5808441, dtype=float32), velocity=Array(0.00190795, dtype=float32)),\n",
       " Array(-0.09559999, dtype=float32),\n",
       " Array(False, dtype=bool))"
      ]
     },
     "execution_count": 20,
     "metadata": {},
     "output_type": "execute_result"
    }
   ],
   "source": [
    "action = env.action_space(env_params).sample(key_policy)\n",
    "n_obs, n_state, reward, done, _ = env.step(key_step, state, action, env_params)\n",
    "n_obs, n_state, reward, done"
   ]
  },
  {
   "cell_type": "markdown",
   "metadata": {},
   "source": [
    "#### 3.2 Setting SAC Parameters"
   ]
  },
  {
   "cell_type": "markdown",
   "metadata": {},
   "source": [
    "When changing solely the algorithm-specific parameter \"target_entropy_ratio\" we found no significant differences between the resulting learning curve.\n",
    "\n",
    "However, to ensure stable training, we believe it would be adequate to simultaneously adjust the learning rate and the target entropy ratio. This would result in the agent striking a careful balance between exploration and exploitation. As we attempted potentially suitable values for the learning rate and entropy (e.g. 0.0001 and 0.0, 0.003 and -0.5, respectively) we found that in the first attempt the learning curve fluctuated significantly at the beginning due to high exploration but stabilized more slowly, whereas in the other attempts the reward curve showed more consistent upward progress, with fewer fluctuations, as the agent was balancing exploration and exploitation."
   ]
  },
  {
   "cell_type": "code",
   "execution_count": 21,
   "metadata": {},
   "outputs": [],
   "source": [
    "CONFIGS = {\"sac\":{\n",
    "                  #\"num_envs\": 10,\n",
    "                  \"buffer_size\": 100_000,\n",
    "                  \"batch_size\": 256,\n",
    "                  \"learning_rate\": 0.00001,\n",
    "                  \"polyak\": 0.95,\n",
    "                  \"num_epochs\": 5,\n",
    "                  \"target_update_freq\": 1000,\n",
    "                  \"total_timesteps\": 500_000,\n",
    "                  \"eval_freq\": 5000,\n",
    "                  \"gamma\": 0.99,\n",
    "                  \"target_entropy_ratio\":0.50\n",
    "                 }\n",
    "          }"
   ]
  },
  {
   "cell_type": "code",
   "execution_count": 22,
   "metadata": {},
   "outputs": [],
   "source": [
    "algo_str = \"sac\"\n",
    "env_str = \"MountainCarContinuous-v0\"\n",
    "\n",
    "# `get_algo` is a convenient function to access algorithms easily\n",
    "# `alg_cls.create` creates a frozen instance of the algorithm and populates it with default values\n",
    "algo_cls = get_algo(algo_str)\n",
    "algo = algo_cls.create(env=env_str, **CONFIGS.get(algo_str, {}))"
   ]
  },
  {
   "cell_type": "markdown",
   "metadata": {},
   "source": [
    "#### 3.3 Training SAC Agent"
   ]
  },
  {
   "cell_type": "code",
   "execution_count": 23,
   "metadata": {},
   "outputs": [
    {
     "name": "stdout",
     "output_type": "stream",
     "text": [
      "Starting to train\n",
      "Finished training in 304.87 seconds (1640.05 steps/second).\n"
     ]
    }
   ],
   "source": [
    "# set training seed and jit train function. Jit `algo.train` allows for faster execution\n",
    "rng = jax.random.PRNGKey(0)\n",
    "train_fn = jax.jit(algo.train)\n",
    "\n",
    "print(\"Starting to train\")\n",
    "# Train: the initial train_state holds currents environment step, network parameters and replay buffer contents\n",
    "start = time.time()\n",
    "train_state, evaluation = train_fn(rng)\n",
    "time_elapsed = time.time() - start\n",
    "\n",
    "sps = algo.total_timesteps / time_elapsed\n",
    "print(f\"Finished training in {time_elapsed:g} seconds ({sps:g} steps/second).\")"
   ]
  },
  {
   "cell_type": "code",
   "execution_count": 24,
   "metadata": {},
   "outputs": [
    {
     "name": "stdout",
     "output_type": "stream",
     "text": [
      "Tuple size: 2\n",
      "Episodic lengths and episodic returns shape: (101, 128)\n",
      "500000 / 5000 + 1 = 101.0\n"
     ]
    }
   ],
   "source": [
    "print('Tuple size:', len(evaluation))\n",
    "print('Episodic lengths and episodic returns shape:', evaluation[0].shape)\n",
    "print(f\"{algo.total_timesteps} / {algo.eval_freq} + 1 = {(algo.total_timesteps/algo.eval_freq+1)}\")"
   ]
  },
  {
   "cell_type": "markdown",
   "metadata": {},
   "source": [
    "Get Highest Reward"
   ]
  },
  {
   "cell_type": "code",
   "execution_count": 25,
   "metadata": {},
   "outputs": [
    {
     "data": {
      "text/plain": [
       "Array(85.899994, dtype=float32)"
      ]
     },
     "execution_count": 25,
     "metadata": {},
     "output_type": "execute_result"
    }
   ],
   "source": [
    "episode_lengths, episode_returns = evaluation\n",
    "episode_returns.max(axis=1).max()"
   ]
  },
  {
   "cell_type": "markdown",
   "metadata": {},
   "source": [
    "#### 3.4 Visualizing SAC Results"
   ]
  },
  {
   "cell_type": "markdown",
   "metadata": {},
   "source": [
    "Checking SAC Learning Curve"
   ]
  },
  {
   "cell_type": "code",
   "execution_count": 26,
   "metadata": {},
   "outputs": [
    {
     "data": {
      "image/png": "[encoded data removed]",
      "text/plain": [
       "<Figure size 640x480 with 1 Axes>"
      ]
     },
     "metadata": {},
     "output_type": "display_data"
    }
   ],
   "source": [
    "from matplotlib import pyplot as plt\n",
    "\n",
    "episode_lengths, episode_returns = evaluation\n",
    "mean_return = episode_returns.mean(axis=1)\n",
    "\n",
    "plt.plot(jax.numpy.linspace(0, algo.total_timesteps, len(mean_return)), mean_return)\n",
    "plt.xlabel(\"Environment step\")\n",
    "plt.ylabel(\"Episodic return\")\n",
    "plt.title(f\"Training agent for {env_str} using {algo_str}\")\n",
    "plt.show()"
   ]
  },
  {
   "cell_type": "code",
   "execution_count": 27,
   "metadata": {},
   "outputs": [],
   "source": [
    "policy = algo.make_act(train_state)\n",
    "policy = jax.jit(policy)"
   ]
  },
  {
   "cell_type": "code",
   "execution_count": 28,
   "metadata": {},
   "outputs": [],
   "source": [
    "# Algorithms return an agent's policy parameters in its train state. \n",
    "policy = algo.make_act(train_state)\n",
    "policy = jax.jit(policy)"
   ]
  },
  {
   "cell_type": "code",
   "execution_count": 29,
   "metadata": {},
   "outputs": [
    {
     "name": "stdout",
     "output_type": "stream",
     "text": [
      "Evaluated 200 episodes with a total of 199800 environment steps in 1.19709 seconds.\n",
      "Average Episode Return: -0.818238377571106\n",
      "Success Rate: 100.00%\n"
     ]
    }
   ],
   "source": [
    "from RLinJAX.evaluate import evaluate\n",
    "\n",
    "num_seeds = 200  \n",
    "env, params = gymnax.make(env_str)\n",
    "max_steps = params.max_steps_in_episode\n",
    "\n",
    "rng = jax.random.PRNGKey(0)\n",
    "\n",
    "start = time.time()\n",
    "\n",
    "# Evaluation time!\n",
    "episode_lengths, episode_returns = evaluate(policy, rng, env, params, num_seeds, max_steps)\n",
    "\n",
    "time_elapsed = time.time() - start\n",
    "\n",
    "print(\n",
    "    f\"Evaluated {num_seeds} episodes \"\n",
    "    f\"with a total of {jax.numpy.sum(episode_lengths)} environment steps \"\n",
    "    f\"in {time_elapsed:g} seconds.\"\n",
    ")\n",
    "\n",
    "avg_return = jax.numpy.mean(episode_returns)\n",
    "print(f\"Average Episode Return: {avg_return}\")\n",
    "\n",
    "success_rate = jax.numpy.sum(jax.numpy.array(episode_returns) > -200) / num_seeds\n",
    "print(f\"Success Rate: {success_rate * 100:.2f}%\")"
   ]
  },
  {
   "cell_type": "markdown",
   "metadata": {},
   "source": [
    "The histograms aren't usefull on a continuous action space"
   ]
  },
  {
   "cell_type": "code",
   "execution_count": 30,
   "metadata": {},
   "outputs": [
    {
     "data": {
      "text/plain": [
       "[Text(0.5, 1.0, 'Episode return')]"
      ]
     },
     "execution_count": 30,
     "metadata": {},
     "output_type": "execute_result"
    },
    {
     "data": {
      "image/png": "[encoded data removed]",
      "text/plain": [
       "<Figure size 800x400 with 2 Axes>"
      ]
     },
     "metadata": {},
     "output_type": "display_data"
    }
   ],
   "source": [
    "fig, axes = plt.subplots(figsize=(8, 4), ncols=2, sharey=\"row\")\n",
    "\n",
    "axes[0].hist(episode_lengths, bins=10)\n",
    "axes[0].set(title=\"Episode length\", ylabel=\"Count\")\n",
    "axes[1].hist(episode_returns)\n",
    "axes[1].set(title=\"Episode return\")"
   ]
  },
  {
   "cell_type": "markdown",
   "metadata": {},
   "source": [
    "## 4. Comparing The Agents"
   ]
  },
  {
   "cell_type": "markdown",
   "metadata": {},
   "source": [
    "In this project we developed three agents and concluded that SAC had a superior performance."
   ]
  },
  {
   "cell_type": "markdown",
   "metadata": {},
   "source": [
    "The Q-learning algorithms results show that the agent struggled to reach the goal, with several episode returns equal to -200. Since the mountain car environment has continuous variables (position and velocity) we discretized the position and velocity of the observation space for it to work with Q-tables. It is possible that the discretization performed didn't captured the complexity of the situation, leading to poorer results. The model also shows moderate instability what can be attributed to the epsilon-greedy policy."
   ]
  },
  {
   "cell_type": "markdown",
   "metadata": {},
   "source": [
    "The DQN algorithm results show that the agent failed to reach the goal a considerable amount of times. The reward histogram suggests that the model has improved its performance in comparison to the Q-learning agent, although the success rate could still benefit from additional tuning. Just like Q-learning, DQN is also designed for discrete environments but both agents shown the lowest performance."
   ]
  },
  {
   "cell_type": "markdown",
   "metadata": {},
   "source": [
    "The SAC algorithm results show a notable increase in the ability of the agent to learn the best course of action. This algorithm learns a stochastic policy that balances exploration and exploitation by optimizing entropy. We experimented with higher learning rates and found that the episodes return had an abrupt rise and converges extremely fast. Once we lowered the learning rate, it was possible to discern a curve that stabilized quickly and steadily approaches zero. This means that the goal is reached without requiring too many actions (and without accumulating too many negative rewards)."
   ]
  }
 ],
 "metadata": {
  "kernelspec": {
   "display_name": "RL",
   "language": "python",
   "name": "python3"
  },
  "language_info": {
   "codemirror_mode": {
    "name": "ipython",
    "version": 3
   },
   "file_extension": ".py",
   "mimetype": "text/x-python",
   "name": "python",
   "nbconvert_exporter": "python",
   "pygments_lexer": "ipython3",
   "version": "3.10.16"
  }
 },
 "nbformat": 4,
 "nbformat_minor": 2
}
